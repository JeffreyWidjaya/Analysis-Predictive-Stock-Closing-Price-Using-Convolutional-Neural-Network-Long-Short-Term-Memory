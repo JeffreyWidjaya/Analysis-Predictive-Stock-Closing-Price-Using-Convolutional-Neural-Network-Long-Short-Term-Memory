{
  "cells": [
    {
      "cell_type": "code",
      "execution_count": null,
      "metadata": {
        "id": "S8LOcjCb4DAM"
      },
      "outputs": [],
      "source": [
        "import pandas as pd\n",
        "import numpy as np"
      ]
    },
    {
      "cell_type": "code",
      "execution_count": null,
      "metadata": {
        "id": "wKGdVqHJRSJH"
      },
      "outputs": [],
      "source": [
        "import math\n",
        "import seaborn as sns\n",
        "import datetime as dt\n",
        "from datetime import datetime\n",
        "sns.set_style(\"whitegrid\")\n",
        "from pandas.plotting import autocorrelation_plot\n",
        "from sklearn.preprocessing import StandardScaler\n",
        "import matplotlib.pyplot as plt\n",
        "%matplotlib inline\n",
        "plt.style.use(\"ggplot\")\n"
      ]
    },
    {
      "cell_type": "code",
      "execution_count": null,
      "metadata": {
        "id": "q1rjQ5afUJ2f"
      },
      "outputs": [],
      "source": [
        "data = pd.read_csv('SMGR.JK.csv')"
      ]
    },
    {
      "cell_type": "code",
      "execution_count": null,
      "metadata": {
        "colab": {
          "base_uri": "https://localhost:8080/"
        },
        "id": "ElQuijz_7nIn",
        "outputId": "0334d21b-2931-4699-a254-4db505cb2143"
      },
      "outputs": [
        {
          "output_type": "execute_result",
          "data": {
            "text/plain": [
              "Date         0\n",
              "Open         1\n",
              "High         1\n",
              "Low          1\n",
              "Close        1\n",
              "Adj Close    1\n",
              "Volume       1\n",
              "dtype: int64"
            ]
          },
          "metadata": {},
          "execution_count": 4
        }
      ],
      "source": [
        "data.isnull().sum()"
      ]
    },
    {
      "cell_type": "code",
      "execution_count": null,
      "metadata": {
        "colab": {
          "base_uri": "https://localhost:8080/",
          "height": 206
        },
        "id": "2rqDT6JR7Sd2",
        "outputId": "82affb4f-a53d-4592-fd55-949819b196a0"
      },
      "outputs": [
        {
          "output_type": "execute_result",
          "data": {
            "text/plain": [
              "         Date     Open     High      Low    Close     Adj Close      Volume\n",
              "0  2018-01-01   9900.0   9900.0   9900.0   9900.0   9120.674805         0.0\n",
              "1  2018-01-02  10100.0  10500.0  10100.0  10275.0   9466.155273   5258400.0\n",
              "2  2018-01-03  10375.0  10500.0  10175.0  10200.0   9397.059570   6010700.0\n",
              "3  2018-01-04  10350.0  11000.0  10325.0  11000.0  10134.083984  11108300.0\n",
              "4  2018-01-05  11000.0  11025.0  10700.0  10900.0  10041.955078   5005400.0"
            ],
            "text/html": [
              "\n",
              "  <div id=\"df-4740cd5e-a35b-494f-b931-3427095b94fb\">\n",
              "    <div class=\"colab-df-container\">\n",
              "      <div>\n",
              "<style scoped>\n",
              "    .dataframe tbody tr th:only-of-type {\n",
              "        vertical-align: middle;\n",
              "    }\n",
              "\n",
              "    .dataframe tbody tr th {\n",
              "        vertical-align: top;\n",
              "    }\n",
              "\n",
              "    .dataframe thead th {\n",
              "        text-align: right;\n",
              "    }\n",
              "</style>\n",
              "<table border=\"1\" class=\"dataframe\">\n",
              "  <thead>\n",
              "    <tr style=\"text-align: right;\">\n",
              "      <th></th>\n",
              "      <th>Date</th>\n",
              "      <th>Open</th>\n",
              "      <th>High</th>\n",
              "      <th>Low</th>\n",
              "      <th>Close</th>\n",
              "      <th>Adj Close</th>\n",
              "      <th>Volume</th>\n",
              "    </tr>\n",
              "  </thead>\n",
              "  <tbody>\n",
              "    <tr>\n",
              "      <th>0</th>\n",
              "      <td>2018-01-01</td>\n",
              "      <td>9900.0</td>\n",
              "      <td>9900.0</td>\n",
              "      <td>9900.0</td>\n",
              "      <td>9900.0</td>\n",
              "      <td>9120.674805</td>\n",
              "      <td>0.0</td>\n",
              "    </tr>\n",
              "    <tr>\n",
              "      <th>1</th>\n",
              "      <td>2018-01-02</td>\n",
              "      <td>10100.0</td>\n",
              "      <td>10500.0</td>\n",
              "      <td>10100.0</td>\n",
              "      <td>10275.0</td>\n",
              "      <td>9466.155273</td>\n",
              "      <td>5258400.0</td>\n",
              "    </tr>\n",
              "    <tr>\n",
              "      <th>2</th>\n",
              "      <td>2018-01-03</td>\n",
              "      <td>10375.0</td>\n",
              "      <td>10500.0</td>\n",
              "      <td>10175.0</td>\n",
              "      <td>10200.0</td>\n",
              "      <td>9397.059570</td>\n",
              "      <td>6010700.0</td>\n",
              "    </tr>\n",
              "    <tr>\n",
              "      <th>3</th>\n",
              "      <td>2018-01-04</td>\n",
              "      <td>10350.0</td>\n",
              "      <td>11000.0</td>\n",
              "      <td>10325.0</td>\n",
              "      <td>11000.0</td>\n",
              "      <td>10134.083984</td>\n",
              "      <td>11108300.0</td>\n",
              "    </tr>\n",
              "    <tr>\n",
              "      <th>4</th>\n",
              "      <td>2018-01-05</td>\n",
              "      <td>11000.0</td>\n",
              "      <td>11025.0</td>\n",
              "      <td>10700.0</td>\n",
              "      <td>10900.0</td>\n",
              "      <td>10041.955078</td>\n",
              "      <td>5005400.0</td>\n",
              "    </tr>\n",
              "  </tbody>\n",
              "</table>\n",
              "</div>\n",
              "      <button class=\"colab-df-convert\" onclick=\"convertToInteractive('df-4740cd5e-a35b-494f-b931-3427095b94fb')\"\n",
              "              title=\"Convert this dataframe to an interactive table.\"\n",
              "              style=\"display:none;\">\n",
              "        \n",
              "  <svg xmlns=\"http://www.w3.org/2000/svg\" height=\"24px\"viewBox=\"0 0 24 24\"\n",
              "       width=\"24px\">\n",
              "    <path d=\"M0 0h24v24H0V0z\" fill=\"none\"/>\n",
              "    <path d=\"M18.56 5.44l.94 2.06.94-2.06 2.06-.94-2.06-.94-.94-2.06-.94 2.06-2.06.94zm-11 1L8.5 8.5l.94-2.06 2.06-.94-2.06-.94L8.5 2.5l-.94 2.06-2.06.94zm10 10l.94 2.06.94-2.06 2.06-.94-2.06-.94-.94-2.06-.94 2.06-2.06.94z\"/><path d=\"M17.41 7.96l-1.37-1.37c-.4-.4-.92-.59-1.43-.59-.52 0-1.04.2-1.43.59L10.3 9.45l-7.72 7.72c-.78.78-.78 2.05 0 2.83L4 21.41c.39.39.9.59 1.41.59.51 0 1.02-.2 1.41-.59l7.78-7.78 2.81-2.81c.8-.78.8-2.07 0-2.86zM5.41 20L4 18.59l7.72-7.72 1.47 1.35L5.41 20z\"/>\n",
              "  </svg>\n",
              "      </button>\n",
              "      \n",
              "  <style>\n",
              "    .colab-df-container {\n",
              "      display:flex;\n",
              "      flex-wrap:wrap;\n",
              "      gap: 12px;\n",
              "    }\n",
              "\n",
              "    .colab-df-convert {\n",
              "      background-color: #E8F0FE;\n",
              "      border: none;\n",
              "      border-radius: 50%;\n",
              "      cursor: pointer;\n",
              "      display: none;\n",
              "      fill: #1967D2;\n",
              "      height: 32px;\n",
              "      padding: 0 0 0 0;\n",
              "      width: 32px;\n",
              "    }\n",
              "\n",
              "    .colab-df-convert:hover {\n",
              "      background-color: #E2EBFA;\n",
              "      box-shadow: 0px 1px 2px rgba(60, 64, 67, 0.3), 0px 1px 3px 1px rgba(60, 64, 67, 0.15);\n",
              "      fill: #174EA6;\n",
              "    }\n",
              "\n",
              "    [theme=dark] .colab-df-convert {\n",
              "      background-color: #3B4455;\n",
              "      fill: #D2E3FC;\n",
              "    }\n",
              "\n",
              "    [theme=dark] .colab-df-convert:hover {\n",
              "      background-color: #434B5C;\n",
              "      box-shadow: 0px 1px 3px 1px rgba(0, 0, 0, 0.15);\n",
              "      filter: drop-shadow(0px 1px 2px rgba(0, 0, 0, 0.3));\n",
              "      fill: #FFFFFF;\n",
              "    }\n",
              "  </style>\n",
              "\n",
              "      <script>\n",
              "        const buttonEl =\n",
              "          document.querySelector('#df-4740cd5e-a35b-494f-b931-3427095b94fb button.colab-df-convert');\n",
              "        buttonEl.style.display =\n",
              "          google.colab.kernel.accessAllowed ? 'block' : 'none';\n",
              "\n",
              "        async function convertToInteractive(key) {\n",
              "          const element = document.querySelector('#df-4740cd5e-a35b-494f-b931-3427095b94fb');\n",
              "          const dataTable =\n",
              "            await google.colab.kernel.invokeFunction('convertToInteractive',\n",
              "                                                     [key], {});\n",
              "          if (!dataTable) return;\n",
              "\n",
              "          const docLinkHtml = 'Like what you see? Visit the ' +\n",
              "            '<a target=\"_blank\" href=https://colab.research.google.com/notebooks/data_table.ipynb>data table notebook</a>'\n",
              "            + ' to learn more about interactive tables.';\n",
              "          element.innerHTML = '';\n",
              "          dataTable['output_type'] = 'display_data';\n",
              "          await google.colab.output.renderOutput(dataTable, element);\n",
              "          const docLink = document.createElement('div');\n",
              "          docLink.innerHTML = docLinkHtml;\n",
              "          element.appendChild(docLink);\n",
              "        }\n",
              "      </script>\n",
              "    </div>\n",
              "  </div>\n",
              "  "
            ]
          },
          "metadata": {},
          "execution_count": 5
        }
      ],
      "source": [
        "#Fill Null data with mean values\n",
        "\n",
        "data.reset_index(drop=True, inplace=True)\n",
        "data.fillna(method = 'ffill', inplace=True)\n",
        "data.head()"
      ]
    },
    {
      "cell_type": "code",
      "execution_count": null,
      "metadata": {
        "id": "ytg8wVPV7iXI"
      },
      "outputs": [],
      "source": [
        "df = data"
      ]
    },
    {
      "cell_type": "code",
      "execution_count": null,
      "metadata": {
        "colab": {
          "base_uri": "https://localhost:8080/",
          "height": 206
        },
        "id": "um7sK9O--2TY",
        "outputId": "1b44c6b8-1dbc-401a-9b38-ff73e0e73971"
      },
      "outputs": [
        {
          "output_type": "execute_result",
          "data": {
            "text/plain": [
              "         Date     Open     High      Low    Close     Adj Close      Volume\n",
              "0  2018-01-01   9900.0   9900.0   9900.0   9900.0   9120.674805         0.0\n",
              "1  2018-01-02  10100.0  10500.0  10100.0  10275.0   9466.155273   5258400.0\n",
              "2  2018-01-03  10375.0  10500.0  10175.0  10200.0   9397.059570   6010700.0\n",
              "3  2018-01-04  10350.0  11000.0  10325.0  11000.0  10134.083984  11108300.0\n",
              "4  2018-01-05  11000.0  11025.0  10700.0  10900.0  10041.955078   5005400.0"
            ],
            "text/html": [
              "\n",
              "  <div id=\"df-531572bb-65f5-44cc-a1f8-a3361c35a26c\">\n",
              "    <div class=\"colab-df-container\">\n",
              "      <div>\n",
              "<style scoped>\n",
              "    .dataframe tbody tr th:only-of-type {\n",
              "        vertical-align: middle;\n",
              "    }\n",
              "\n",
              "    .dataframe tbody tr th {\n",
              "        vertical-align: top;\n",
              "    }\n",
              "\n",
              "    .dataframe thead th {\n",
              "        text-align: right;\n",
              "    }\n",
              "</style>\n",
              "<table border=\"1\" class=\"dataframe\">\n",
              "  <thead>\n",
              "    <tr style=\"text-align: right;\">\n",
              "      <th></th>\n",
              "      <th>Date</th>\n",
              "      <th>Open</th>\n",
              "      <th>High</th>\n",
              "      <th>Low</th>\n",
              "      <th>Close</th>\n",
              "      <th>Adj Close</th>\n",
              "      <th>Volume</th>\n",
              "    </tr>\n",
              "  </thead>\n",
              "  <tbody>\n",
              "    <tr>\n",
              "      <th>0</th>\n",
              "      <td>2018-01-01</td>\n",
              "      <td>9900.0</td>\n",
              "      <td>9900.0</td>\n",
              "      <td>9900.0</td>\n",
              "      <td>9900.0</td>\n",
              "      <td>9120.674805</td>\n",
              "      <td>0.0</td>\n",
              "    </tr>\n",
              "    <tr>\n",
              "      <th>1</th>\n",
              "      <td>2018-01-02</td>\n",
              "      <td>10100.0</td>\n",
              "      <td>10500.0</td>\n",
              "      <td>10100.0</td>\n",
              "      <td>10275.0</td>\n",
              "      <td>9466.155273</td>\n",
              "      <td>5258400.0</td>\n",
              "    </tr>\n",
              "    <tr>\n",
              "      <th>2</th>\n",
              "      <td>2018-01-03</td>\n",
              "      <td>10375.0</td>\n",
              "      <td>10500.0</td>\n",
              "      <td>10175.0</td>\n",
              "      <td>10200.0</td>\n",
              "      <td>9397.059570</td>\n",
              "      <td>6010700.0</td>\n",
              "    </tr>\n",
              "    <tr>\n",
              "      <th>3</th>\n",
              "      <td>2018-01-04</td>\n",
              "      <td>10350.0</td>\n",
              "      <td>11000.0</td>\n",
              "      <td>10325.0</td>\n",
              "      <td>11000.0</td>\n",
              "      <td>10134.083984</td>\n",
              "      <td>11108300.0</td>\n",
              "    </tr>\n",
              "    <tr>\n",
              "      <th>4</th>\n",
              "      <td>2018-01-05</td>\n",
              "      <td>11000.0</td>\n",
              "      <td>11025.0</td>\n",
              "      <td>10700.0</td>\n",
              "      <td>10900.0</td>\n",
              "      <td>10041.955078</td>\n",
              "      <td>5005400.0</td>\n",
              "    </tr>\n",
              "  </tbody>\n",
              "</table>\n",
              "</div>\n",
              "      <button class=\"colab-df-convert\" onclick=\"convertToInteractive('df-531572bb-65f5-44cc-a1f8-a3361c35a26c')\"\n",
              "              title=\"Convert this dataframe to an interactive table.\"\n",
              "              style=\"display:none;\">\n",
              "        \n",
              "  <svg xmlns=\"http://www.w3.org/2000/svg\" height=\"24px\"viewBox=\"0 0 24 24\"\n",
              "       width=\"24px\">\n",
              "    <path d=\"M0 0h24v24H0V0z\" fill=\"none\"/>\n",
              "    <path d=\"M18.56 5.44l.94 2.06.94-2.06 2.06-.94-2.06-.94-.94-2.06-.94 2.06-2.06.94zm-11 1L8.5 8.5l.94-2.06 2.06-.94-2.06-.94L8.5 2.5l-.94 2.06-2.06.94zm10 10l.94 2.06.94-2.06 2.06-.94-2.06-.94-.94-2.06-.94 2.06-2.06.94z\"/><path d=\"M17.41 7.96l-1.37-1.37c-.4-.4-.92-.59-1.43-.59-.52 0-1.04.2-1.43.59L10.3 9.45l-7.72 7.72c-.78.78-.78 2.05 0 2.83L4 21.41c.39.39.9.59 1.41.59.51 0 1.02-.2 1.41-.59l7.78-7.78 2.81-2.81c.8-.78.8-2.07 0-2.86zM5.41 20L4 18.59l7.72-7.72 1.47 1.35L5.41 20z\"/>\n",
              "  </svg>\n",
              "      </button>\n",
              "      \n",
              "  <style>\n",
              "    .colab-df-container {\n",
              "      display:flex;\n",
              "      flex-wrap:wrap;\n",
              "      gap: 12px;\n",
              "    }\n",
              "\n",
              "    .colab-df-convert {\n",
              "      background-color: #E8F0FE;\n",
              "      border: none;\n",
              "      border-radius: 50%;\n",
              "      cursor: pointer;\n",
              "      display: none;\n",
              "      fill: #1967D2;\n",
              "      height: 32px;\n",
              "      padding: 0 0 0 0;\n",
              "      width: 32px;\n",
              "    }\n",
              "\n",
              "    .colab-df-convert:hover {\n",
              "      background-color: #E2EBFA;\n",
              "      box-shadow: 0px 1px 2px rgba(60, 64, 67, 0.3), 0px 1px 3px 1px rgba(60, 64, 67, 0.15);\n",
              "      fill: #174EA6;\n",
              "    }\n",
              "\n",
              "    [theme=dark] .colab-df-convert {\n",
              "      background-color: #3B4455;\n",
              "      fill: #D2E3FC;\n",
              "    }\n",
              "\n",
              "    [theme=dark] .colab-df-convert:hover {\n",
              "      background-color: #434B5C;\n",
              "      box-shadow: 0px 1px 3px 1px rgba(0, 0, 0, 0.15);\n",
              "      filter: drop-shadow(0px 1px 2px rgba(0, 0, 0, 0.3));\n",
              "      fill: #FFFFFF;\n",
              "    }\n",
              "  </style>\n",
              "\n",
              "      <script>\n",
              "        const buttonEl =\n",
              "          document.querySelector('#df-531572bb-65f5-44cc-a1f8-a3361c35a26c button.colab-df-convert');\n",
              "        buttonEl.style.display =\n",
              "          google.colab.kernel.accessAllowed ? 'block' : 'none';\n",
              "\n",
              "        async function convertToInteractive(key) {\n",
              "          const element = document.querySelector('#df-531572bb-65f5-44cc-a1f8-a3361c35a26c');\n",
              "          const dataTable =\n",
              "            await google.colab.kernel.invokeFunction('convertToInteractive',\n",
              "                                                     [key], {});\n",
              "          if (!dataTable) return;\n",
              "\n",
              "          const docLinkHtml = 'Like what you see? Visit the ' +\n",
              "            '<a target=\"_blank\" href=https://colab.research.google.com/notebooks/data_table.ipynb>data table notebook</a>'\n",
              "            + ' to learn more about interactive tables.';\n",
              "          element.innerHTML = '';\n",
              "          dataTable['output_type'] = 'display_data';\n",
              "          await google.colab.output.renderOutput(dataTable, element);\n",
              "          const docLink = document.createElement('div');\n",
              "          docLink.innerHTML = docLinkHtml;\n",
              "          element.appendChild(docLink);\n",
              "        }\n",
              "      </script>\n",
              "    </div>\n",
              "  </div>\n",
              "  "
            ]
          },
          "metadata": {},
          "execution_count": 7
        }
      ],
      "source": [
        "df.head()"
      ]
    },
    {
      "cell_type": "code",
      "execution_count": null,
      "metadata": {
        "colab": {
          "base_uri": "https://localhost:8080/"
        },
        "id": "qXTXHwEI6GRQ",
        "outputId": "af98260e-6513-41d7-96df-0d8740fb7f25"
      },
      "outputs": [
        {
          "output_type": "stream",
          "name": "stdout",
          "text": [
            "993    2021-12-10\n",
            "994    2021-12-13\n",
            "995    2021-12-14\n",
            "996    2021-12-15\n",
            "997    2021-12-16\n",
            "998    2021-12-17\n",
            "999    2021-12-20\n",
            "1000   2021-12-21\n",
            "1001   2021-12-22\n",
            "1002   2021-12-23\n",
            "1003   2021-12-24\n",
            "1004   2021-12-27\n",
            "1005   2021-12-28\n",
            "1006   2021-12-29\n",
            "1007   2021-12-30\n",
            "Name: Date, dtype: datetime64[ns]\n"
          ]
        }
      ],
      "source": [
        "#Separate dates for future plotting\n",
        "train_dates = pd.to_datetime(df['Date'])\n",
        "print(train_dates.tail(15)) #Check last few dates."
      ]
    },
    {
      "cell_type": "code",
      "execution_count": null,
      "metadata": {
        "colab": {
          "base_uri": "https://localhost:8080/"
        },
        "id": "u5HYqZxX6HlW",
        "outputId": "4feafe31-232a-41bc-8e90-cb1189f8fba1"
      },
      "outputs": [
        {
          "output_type": "execute_result",
          "data": {
            "text/plain": [
              "(1008, 7)"
            ]
          },
          "metadata": {},
          "execution_count": 9
        }
      ],
      "source": [
        "df.shape"
      ]
    },
    {
      "cell_type": "code",
      "execution_count": null,
      "metadata": {
        "id": "GtXcsQTG6Obw"
      },
      "outputs": [],
      "source": [
        "#Variables for training\n",
        "#Variables are Open, High, Low, Close, Adj Close\n",
        "cols = list(df)[1:6]"
      ]
    },
    {
      "cell_type": "code",
      "execution_count": null,
      "metadata": {
        "colab": {
          "base_uri": "https://localhost:8080/"
        },
        "id": "tDJOf-yD6Qt4",
        "outputId": "d0f54f1d-0157-4e6f-e153-76d9ed5303ee"
      },
      "outputs": [
        {
          "output_type": "stream",
          "name": "stdout",
          "text": [
            "['Open', 'High', 'Low', 'Close', 'Adj Close']\n"
          ]
        }
      ],
      "source": [
        "#Date and volume columns are not used in training.\n",
        "print(cols) #['Open', 'High', 'Low', 'Close', 'Adj Close']"
      ]
    },
    {
      "cell_type": "code",
      "execution_count": null,
      "metadata": {
        "id": "qGieIhqD6TJe"
      },
      "outputs": [],
      "source": [
        "#New dataframe with only training data - 5 columns\n",
        "df_for_training = df[cols].astype(float)"
      ]
    },
    {
      "cell_type": "code",
      "execution_count": null,
      "metadata": {
        "colab": {
          "base_uri": "https://localhost:8080/"
        },
        "id": "KRURj0E_6p0w",
        "outputId": "d53a859d-9af8-4361-897d-9ee229190b55"
      },
      "outputs": [
        {
          "output_type": "execute_result",
          "data": {
            "text/plain": [
              "(1008, 5)"
            ]
          },
          "metadata": {},
          "execution_count": 13
        }
      ],
      "source": [
        "df_for_training.shape"
      ]
    },
    {
      "cell_type": "code",
      "execution_count": null,
      "metadata": {
        "colab": {
          "base_uri": "https://localhost:8080/",
          "height": 424
        },
        "id": "aBloo7Bp6sGH",
        "outputId": "d5520f3a-585b-400e-9065-3f485de3aaab"
      },
      "outputs": [
        {
          "output_type": "execute_result",
          "data": {
            "text/plain": [
              "         Open     High      Low    Close     Adj Close\n",
              "0      9900.0   9900.0   9900.0   9900.0   9120.674805\n",
              "1     10100.0  10500.0  10100.0  10275.0   9466.155273\n",
              "2     10375.0  10500.0  10175.0  10200.0   9397.059570\n",
              "3     10350.0  11000.0  10325.0  11000.0  10134.083984\n",
              "4     11000.0  11025.0  10700.0  10900.0  10041.955078\n",
              "...       ...      ...      ...      ...           ...\n",
              "1003   7325.0   7400.0   7250.0   7275.0   7087.364258\n",
              "1004   7300.0   7500.0   7300.0   7400.0   7209.140137\n",
              "1005   7450.0   7475.0   7350.0   7350.0   7160.429688\n",
              "1006   7350.0   7375.0   7175.0   7225.0   7038.653809\n",
              "1007   7225.0   7325.0   7225.0   7250.0   7063.008789\n",
              "\n",
              "[1008 rows x 5 columns]"
            ],
            "text/html": [
              "\n",
              "  <div id=\"df-36e9341e-9cbf-45df-a4e1-6dcbabe91833\">\n",
              "    <div class=\"colab-df-container\">\n",
              "      <div>\n",
              "<style scoped>\n",
              "    .dataframe tbody tr th:only-of-type {\n",
              "        vertical-align: middle;\n",
              "    }\n",
              "\n",
              "    .dataframe tbody tr th {\n",
              "        vertical-align: top;\n",
              "    }\n",
              "\n",
              "    .dataframe thead th {\n",
              "        text-align: right;\n",
              "    }\n",
              "</style>\n",
              "<table border=\"1\" class=\"dataframe\">\n",
              "  <thead>\n",
              "    <tr style=\"text-align: right;\">\n",
              "      <th></th>\n",
              "      <th>Open</th>\n",
              "      <th>High</th>\n",
              "      <th>Low</th>\n",
              "      <th>Close</th>\n",
              "      <th>Adj Close</th>\n",
              "    </tr>\n",
              "  </thead>\n",
              "  <tbody>\n",
              "    <tr>\n",
              "      <th>0</th>\n",
              "      <td>9900.0</td>\n",
              "      <td>9900.0</td>\n",
              "      <td>9900.0</td>\n",
              "      <td>9900.0</td>\n",
              "      <td>9120.674805</td>\n",
              "    </tr>\n",
              "    <tr>\n",
              "      <th>1</th>\n",
              "      <td>10100.0</td>\n",
              "      <td>10500.0</td>\n",
              "      <td>10100.0</td>\n",
              "      <td>10275.0</td>\n",
              "      <td>9466.155273</td>\n",
              "    </tr>\n",
              "    <tr>\n",
              "      <th>2</th>\n",
              "      <td>10375.0</td>\n",
              "      <td>10500.0</td>\n",
              "      <td>10175.0</td>\n",
              "      <td>10200.0</td>\n",
              "      <td>9397.059570</td>\n",
              "    </tr>\n",
              "    <tr>\n",
              "      <th>3</th>\n",
              "      <td>10350.0</td>\n",
              "      <td>11000.0</td>\n",
              "      <td>10325.0</td>\n",
              "      <td>11000.0</td>\n",
              "      <td>10134.083984</td>\n",
              "    </tr>\n",
              "    <tr>\n",
              "      <th>4</th>\n",
              "      <td>11000.0</td>\n",
              "      <td>11025.0</td>\n",
              "      <td>10700.0</td>\n",
              "      <td>10900.0</td>\n",
              "      <td>10041.955078</td>\n",
              "    </tr>\n",
              "    <tr>\n",
              "      <th>...</th>\n",
              "      <td>...</td>\n",
              "      <td>...</td>\n",
              "      <td>...</td>\n",
              "      <td>...</td>\n",
              "      <td>...</td>\n",
              "    </tr>\n",
              "    <tr>\n",
              "      <th>1003</th>\n",
              "      <td>7325.0</td>\n",
              "      <td>7400.0</td>\n",
              "      <td>7250.0</td>\n",
              "      <td>7275.0</td>\n",
              "      <td>7087.364258</td>\n",
              "    </tr>\n",
              "    <tr>\n",
              "      <th>1004</th>\n",
              "      <td>7300.0</td>\n",
              "      <td>7500.0</td>\n",
              "      <td>7300.0</td>\n",
              "      <td>7400.0</td>\n",
              "      <td>7209.140137</td>\n",
              "    </tr>\n",
              "    <tr>\n",
              "      <th>1005</th>\n",
              "      <td>7450.0</td>\n",
              "      <td>7475.0</td>\n",
              "      <td>7350.0</td>\n",
              "      <td>7350.0</td>\n",
              "      <td>7160.429688</td>\n",
              "    </tr>\n",
              "    <tr>\n",
              "      <th>1006</th>\n",
              "      <td>7350.0</td>\n",
              "      <td>7375.0</td>\n",
              "      <td>7175.0</td>\n",
              "      <td>7225.0</td>\n",
              "      <td>7038.653809</td>\n",
              "    </tr>\n",
              "    <tr>\n",
              "      <th>1007</th>\n",
              "      <td>7225.0</td>\n",
              "      <td>7325.0</td>\n",
              "      <td>7225.0</td>\n",
              "      <td>7250.0</td>\n",
              "      <td>7063.008789</td>\n",
              "    </tr>\n",
              "  </tbody>\n",
              "</table>\n",
              "<p>1008 rows × 5 columns</p>\n",
              "</div>\n",
              "      <button class=\"colab-df-convert\" onclick=\"convertToInteractive('df-36e9341e-9cbf-45df-a4e1-6dcbabe91833')\"\n",
              "              title=\"Convert this dataframe to an interactive table.\"\n",
              "              style=\"display:none;\">\n",
              "        \n",
              "  <svg xmlns=\"http://www.w3.org/2000/svg\" height=\"24px\"viewBox=\"0 0 24 24\"\n",
              "       width=\"24px\">\n",
              "    <path d=\"M0 0h24v24H0V0z\" fill=\"none\"/>\n",
              "    <path d=\"M18.56 5.44l.94 2.06.94-2.06 2.06-.94-2.06-.94-.94-2.06-.94 2.06-2.06.94zm-11 1L8.5 8.5l.94-2.06 2.06-.94-2.06-.94L8.5 2.5l-.94 2.06-2.06.94zm10 10l.94 2.06.94-2.06 2.06-.94-2.06-.94-.94-2.06-.94 2.06-2.06.94z\"/><path d=\"M17.41 7.96l-1.37-1.37c-.4-.4-.92-.59-1.43-.59-.52 0-1.04.2-1.43.59L10.3 9.45l-7.72 7.72c-.78.78-.78 2.05 0 2.83L4 21.41c.39.39.9.59 1.41.59.51 0 1.02-.2 1.41-.59l7.78-7.78 2.81-2.81c.8-.78.8-2.07 0-2.86zM5.41 20L4 18.59l7.72-7.72 1.47 1.35L5.41 20z\"/>\n",
              "  </svg>\n",
              "      </button>\n",
              "      \n",
              "  <style>\n",
              "    .colab-df-container {\n",
              "      display:flex;\n",
              "      flex-wrap:wrap;\n",
              "      gap: 12px;\n",
              "    }\n",
              "\n",
              "    .colab-df-convert {\n",
              "      background-color: #E8F0FE;\n",
              "      border: none;\n",
              "      border-radius: 50%;\n",
              "      cursor: pointer;\n",
              "      display: none;\n",
              "      fill: #1967D2;\n",
              "      height: 32px;\n",
              "      padding: 0 0 0 0;\n",
              "      width: 32px;\n",
              "    }\n",
              "\n",
              "    .colab-df-convert:hover {\n",
              "      background-color: #E2EBFA;\n",
              "      box-shadow: 0px 1px 2px rgba(60, 64, 67, 0.3), 0px 1px 3px 1px rgba(60, 64, 67, 0.15);\n",
              "      fill: #174EA6;\n",
              "    }\n",
              "\n",
              "    [theme=dark] .colab-df-convert {\n",
              "      background-color: #3B4455;\n",
              "      fill: #D2E3FC;\n",
              "    }\n",
              "\n",
              "    [theme=dark] .colab-df-convert:hover {\n",
              "      background-color: #434B5C;\n",
              "      box-shadow: 0px 1px 3px 1px rgba(0, 0, 0, 0.15);\n",
              "      filter: drop-shadow(0px 1px 2px rgba(0, 0, 0, 0.3));\n",
              "      fill: #FFFFFF;\n",
              "    }\n",
              "  </style>\n",
              "\n",
              "      <script>\n",
              "        const buttonEl =\n",
              "          document.querySelector('#df-36e9341e-9cbf-45df-a4e1-6dcbabe91833 button.colab-df-convert');\n",
              "        buttonEl.style.display =\n",
              "          google.colab.kernel.accessAllowed ? 'block' : 'none';\n",
              "\n",
              "        async function convertToInteractive(key) {\n",
              "          const element = document.querySelector('#df-36e9341e-9cbf-45df-a4e1-6dcbabe91833');\n",
              "          const dataTable =\n",
              "            await google.colab.kernel.invokeFunction('convertToInteractive',\n",
              "                                                     [key], {});\n",
              "          if (!dataTable) return;\n",
              "\n",
              "          const docLinkHtml = 'Like what you see? Visit the ' +\n",
              "            '<a target=\"_blank\" href=https://colab.research.google.com/notebooks/data_table.ipynb>data table notebook</a>'\n",
              "            + ' to learn more about interactive tables.';\n",
              "          element.innerHTML = '';\n",
              "          dataTable['output_type'] = 'display_data';\n",
              "          await google.colab.output.renderOutput(dataTable, element);\n",
              "          const docLink = document.createElement('div');\n",
              "          docLink.innerHTML = docLinkHtml;\n",
              "          element.appendChild(docLink);\n",
              "        }\n",
              "      </script>\n",
              "    </div>\n",
              "  </div>\n",
              "  "
            ]
          },
          "metadata": {},
          "execution_count": 14
        }
      ],
      "source": [
        "df_for_training"
      ]
    },
    {
      "cell_type": "code",
      "execution_count": null,
      "metadata": {
        "id": "IOcPySuUxW86"
      },
      "outputs": [],
      "source": [
        "from sklearn.model_selection import train_test_split"
      ]
    },
    {
      "cell_type": "code",
      "execution_count": null,
      "metadata": {
        "id": "rRm8mZILIaOi"
      },
      "outputs": [],
      "source": [
        "X = []\n",
        "Y = []"
      ]
    },
    {
      "cell_type": "code",
      "execution_count": null,
      "metadata": {
        "colab": {
          "base_uri": "https://localhost:8080/"
        },
        "id": "TnqSOo6qRpIk",
        "outputId": "234a124c-651f-424f-d8ac-eb619c7fbdc0"
      },
      "outputs": [
        {
          "output_type": "execute_result",
          "data": {
            "text/plain": [
              "1008"
            ]
          },
          "metadata": {},
          "execution_count": 16
        }
      ],
      "source": [
        "len(df_for_training)"
      ]
    },
    {
      "cell_type": "code",
      "execution_count": null,
      "metadata": {
        "id": "n0n95mIbSxGV"
      },
      "outputs": [],
      "source": [
        "# 7 Data Historis\n",
        "refpoint = df_for_training.iloc[10,3]\n",
        "\n",
        "# 50 Data Historis\n",
        "#refpoint = df_for_training.iloc[53,3]"
      ]
    },
    {
      "cell_type": "code",
      "execution_count": null,
      "metadata": {
        "colab": {
          "base_uri": "https://localhost:8080/"
        },
        "id": "sgs-c63_1NHf",
        "outputId": "b706e045-8947-4b2f-8363-de0fcddb6f27"
      },
      "outputs": [
        {
          "output_type": "execute_result",
          "data": {
            "text/plain": [
              "1008"
            ]
          },
          "metadata": {},
          "execution_count": 18
        }
      ],
      "source": [
        "len(df_for_training)"
      ]
    },
    {
      "cell_type": "code",
      "execution_count": null,
      "metadata": {
        "id": "PzgU65LqnRz4"
      },
      "outputs": [],
      "source": [
        "#Fitur 7 Data Historis\n",
        "window_size = 8\n",
        "\n",
        "#Fitur 50 Data Historis\n",
        "#window_size = 51"
      ]
    },
    {
      "cell_type": "code",
      "execution_count": null,
      "metadata": {
        "id": "lCl6BhWFGRbL"
      },
      "outputs": [],
      "source": [
        "X = []\n",
        "\n",
        "for i in range(1 , window_size , 1):\n",
        "    first = df_for_training.iloc[i,3]\n",
        "    temp = []\n",
        "    for j in range(len(df_for_training) - window_size -1):\n",
        "        temp.append((df_for_training.iloc[i + j, 3] - first) / first)\n",
        "    X.append(np.array(temp).reshape(999,1)) #999 or 956"
      ]
    },
    {
      "cell_type": "code",
      "execution_count": null,
      "metadata": {
        "id": "m4kOnrqUfI0I"
      },
      "outputs": [],
      "source": [
        "Y = []\n",
        "\n",
        "for i in range(1 , len(df_for_training) - window_size, 1):\n",
        "    temp2 = []\n",
        "    temp2.append((df_for_training.iloc[i + window_size, 3] - refpoint) / refpoint)\n",
        "    Y.append(np.array(temp2).reshape(1, 1))"
      ]
    },
    {
      "cell_type": "code",
      "execution_count": null,
      "metadata": {
        "colab": {
          "base_uri": "https://localhost:8080/"
        },
        "id": "L0lUtC_0asBs",
        "outputId": "63892304-a8ce-4bac-9ebd-68161e77a5be"
      },
      "outputs": [
        {
          "output_type": "execute_result",
          "data": {
            "text/plain": [
              "7"
            ]
          },
          "metadata": {},
          "execution_count": 22
        }
      ],
      "source": [
        "len(X)"
      ]
    },
    {
      "cell_type": "code",
      "execution_count": null,
      "metadata": {
        "colab": {
          "base_uri": "https://localhost:8080/"
        },
        "id": "Ii-p5GjGgj6Y",
        "outputId": "3f8b051d-9d42-40c5-a29c-8473baed1ec8"
      },
      "outputs": [
        {
          "output_type": "execute_result",
          "data": {
            "text/plain": [
              "999"
            ]
          },
          "metadata": {},
          "execution_count": 23
        }
      ],
      "source": [
        "len(Y)"
      ]
    },
    {
      "cell_type": "code",
      "execution_count": null,
      "metadata": {
        "id": "D99vAeB5ZEz6"
      },
      "outputs": [],
      "source": [
        "X_n = np.array(X)"
      ]
    },
    {
      "cell_type": "code",
      "execution_count": null,
      "metadata": {
        "colab": {
          "base_uri": "https://localhost:8080/"
        },
        "id": "BxrhYURNZtG7",
        "outputId": "ccafee2f-196a-4ae4-c951-45739a76e150"
      },
      "outputs": [
        {
          "output_type": "execute_result",
          "data": {
            "text/plain": [
              "(7, 999, 1)"
            ]
          },
          "metadata": {},
          "execution_count": 25
        }
      ],
      "source": [
        "X_n.shape"
      ]
    },
    {
      "cell_type": "code",
      "execution_count": null,
      "metadata": {
        "id": "TKTZCOG2ZeRi"
      },
      "outputs": [],
      "source": [
        "# 7 Data Historis\n",
        "X_dataframe = pd.DataFrame(X_n.reshape(7,999))\n",
        "\n",
        "# 50 Data Historis\n",
        "#X_dataframe = pd.DataFrame(X_n.reshape(50,956))"
      ]
    },
    {
      "cell_type": "code",
      "execution_count": null,
      "metadata": {
        "colab": {
          "base_uri": "https://localhost:8080/",
          "height": 300
        },
        "id": "tOuAAyIsZzxA",
        "outputId": "66a994db-072d-404c-e9b4-d815dac37f2e"
      },
      "outputs": [
        {
          "output_type": "execute_result",
          "data": {
            "text/plain": [
              "   0         1         2         3         4         5         6         7    \\\n",
              "0  0.0 -0.007299  0.070560  0.060827  0.070560  0.090024  0.053528  0.055961   \n",
              "1  0.0  0.078431  0.068627  0.078431  0.098039  0.061275  0.063725  0.036765   \n",
              "2  0.0 -0.009091  0.000000  0.018182 -0.015909 -0.013636 -0.038636 -0.043182   \n",
              "3  0.0  0.009174  0.027523 -0.006881 -0.004587 -0.029817 -0.034404 -0.025229   \n",
              "4  0.0  0.018182 -0.015909 -0.013636 -0.038636 -0.043182 -0.034091  0.036364   \n",
              "\n",
              "        8         9    ...       989       990       991       992       993  \\\n",
              "0  0.029197  0.024331  ... -0.214112 -0.218978 -0.218978 -0.233577 -0.231144   \n",
              "1  0.031863  0.041667  ... -0.213235 -0.213235 -0.227941 -0.225490 -0.240196   \n",
              "2 -0.034091  0.036364  ... -0.270455 -0.284091 -0.281818 -0.295455 -0.300000   \n",
              "3  0.045872  0.016055  ... -0.277523 -0.275229 -0.288991 -0.293578 -0.305046   \n",
              "4  0.006818 -0.004545  ... -0.281818 -0.295455 -0.300000 -0.311364 -0.325000   \n",
              "\n",
              "        994       995       996       997       998  \n",
              "0 -0.245742 -0.250608 -0.262774 -0.277372 -0.287105  \n",
              "1 -0.245098 -0.257353 -0.272059 -0.281863 -0.272059  \n",
              "2 -0.311364 -0.325000 -0.334091 -0.325000 -0.340909  \n",
              "3 -0.318807 -0.327982 -0.318807 -0.334862 -0.330275  \n",
              "4 -0.334091 -0.325000 -0.340909 -0.336364 -0.338636  \n",
              "\n",
              "[5 rows x 999 columns]"
            ],
            "text/html": [
              "\n",
              "  <div id=\"df-5ce5012c-f358-461c-9099-9d82901f04b6\">\n",
              "    <div class=\"colab-df-container\">\n",
              "      <div>\n",
              "<style scoped>\n",
              "    .dataframe tbody tr th:only-of-type {\n",
              "        vertical-align: middle;\n",
              "    }\n",
              "\n",
              "    .dataframe tbody tr th {\n",
              "        vertical-align: top;\n",
              "    }\n",
              "\n",
              "    .dataframe thead th {\n",
              "        text-align: right;\n",
              "    }\n",
              "</style>\n",
              "<table border=\"1\" class=\"dataframe\">\n",
              "  <thead>\n",
              "    <tr style=\"text-align: right;\">\n",
              "      <th></th>\n",
              "      <th>0</th>\n",
              "      <th>1</th>\n",
              "      <th>2</th>\n",
              "      <th>3</th>\n",
              "      <th>4</th>\n",
              "      <th>5</th>\n",
              "      <th>6</th>\n",
              "      <th>7</th>\n",
              "      <th>8</th>\n",
              "      <th>9</th>\n",
              "      <th>...</th>\n",
              "      <th>989</th>\n",
              "      <th>990</th>\n",
              "      <th>991</th>\n",
              "      <th>992</th>\n",
              "      <th>993</th>\n",
              "      <th>994</th>\n",
              "      <th>995</th>\n",
              "      <th>996</th>\n",
              "      <th>997</th>\n",
              "      <th>998</th>\n",
              "    </tr>\n",
              "  </thead>\n",
              "  <tbody>\n",
              "    <tr>\n",
              "      <th>0</th>\n",
              "      <td>0.0</td>\n",
              "      <td>-0.007299</td>\n",
              "      <td>0.070560</td>\n",
              "      <td>0.060827</td>\n",
              "      <td>0.070560</td>\n",
              "      <td>0.090024</td>\n",
              "      <td>0.053528</td>\n",
              "      <td>0.055961</td>\n",
              "      <td>0.029197</td>\n",
              "      <td>0.024331</td>\n",
              "      <td>...</td>\n",
              "      <td>-0.214112</td>\n",
              "      <td>-0.218978</td>\n",
              "      <td>-0.218978</td>\n",
              "      <td>-0.233577</td>\n",
              "      <td>-0.231144</td>\n",
              "      <td>-0.245742</td>\n",
              "      <td>-0.250608</td>\n",
              "      <td>-0.262774</td>\n",
              "      <td>-0.277372</td>\n",
              "      <td>-0.287105</td>\n",
              "    </tr>\n",
              "    <tr>\n",
              "      <th>1</th>\n",
              "      <td>0.0</td>\n",
              "      <td>0.078431</td>\n",
              "      <td>0.068627</td>\n",
              "      <td>0.078431</td>\n",
              "      <td>0.098039</td>\n",
              "      <td>0.061275</td>\n",
              "      <td>0.063725</td>\n",
              "      <td>0.036765</td>\n",
              "      <td>0.031863</td>\n",
              "      <td>0.041667</td>\n",
              "      <td>...</td>\n",
              "      <td>-0.213235</td>\n",
              "      <td>-0.213235</td>\n",
              "      <td>-0.227941</td>\n",
              "      <td>-0.225490</td>\n",
              "      <td>-0.240196</td>\n",
              "      <td>-0.245098</td>\n",
              "      <td>-0.257353</td>\n",
              "      <td>-0.272059</td>\n",
              "      <td>-0.281863</td>\n",
              "      <td>-0.272059</td>\n",
              "    </tr>\n",
              "    <tr>\n",
              "      <th>2</th>\n",
              "      <td>0.0</td>\n",
              "      <td>-0.009091</td>\n",
              "      <td>0.000000</td>\n",
              "      <td>0.018182</td>\n",
              "      <td>-0.015909</td>\n",
              "      <td>-0.013636</td>\n",
              "      <td>-0.038636</td>\n",
              "      <td>-0.043182</td>\n",
              "      <td>-0.034091</td>\n",
              "      <td>0.036364</td>\n",
              "      <td>...</td>\n",
              "      <td>-0.270455</td>\n",
              "      <td>-0.284091</td>\n",
              "      <td>-0.281818</td>\n",
              "      <td>-0.295455</td>\n",
              "      <td>-0.300000</td>\n",
              "      <td>-0.311364</td>\n",
              "      <td>-0.325000</td>\n",
              "      <td>-0.334091</td>\n",
              "      <td>-0.325000</td>\n",
              "      <td>-0.340909</td>\n",
              "    </tr>\n",
              "    <tr>\n",
              "      <th>3</th>\n",
              "      <td>0.0</td>\n",
              "      <td>0.009174</td>\n",
              "      <td>0.027523</td>\n",
              "      <td>-0.006881</td>\n",
              "      <td>-0.004587</td>\n",
              "      <td>-0.029817</td>\n",
              "      <td>-0.034404</td>\n",
              "      <td>-0.025229</td>\n",
              "      <td>0.045872</td>\n",
              "      <td>0.016055</td>\n",
              "      <td>...</td>\n",
              "      <td>-0.277523</td>\n",
              "      <td>-0.275229</td>\n",
              "      <td>-0.288991</td>\n",
              "      <td>-0.293578</td>\n",
              "      <td>-0.305046</td>\n",
              "      <td>-0.318807</td>\n",
              "      <td>-0.327982</td>\n",
              "      <td>-0.318807</td>\n",
              "      <td>-0.334862</td>\n",
              "      <td>-0.330275</td>\n",
              "    </tr>\n",
              "    <tr>\n",
              "      <th>4</th>\n",
              "      <td>0.0</td>\n",
              "      <td>0.018182</td>\n",
              "      <td>-0.015909</td>\n",
              "      <td>-0.013636</td>\n",
              "      <td>-0.038636</td>\n",
              "      <td>-0.043182</td>\n",
              "      <td>-0.034091</td>\n",
              "      <td>0.036364</td>\n",
              "      <td>0.006818</td>\n",
              "      <td>-0.004545</td>\n",
              "      <td>...</td>\n",
              "      <td>-0.281818</td>\n",
              "      <td>-0.295455</td>\n",
              "      <td>-0.300000</td>\n",
              "      <td>-0.311364</td>\n",
              "      <td>-0.325000</td>\n",
              "      <td>-0.334091</td>\n",
              "      <td>-0.325000</td>\n",
              "      <td>-0.340909</td>\n",
              "      <td>-0.336364</td>\n",
              "      <td>-0.338636</td>\n",
              "    </tr>\n",
              "  </tbody>\n",
              "</table>\n",
              "<p>5 rows × 999 columns</p>\n",
              "</div>\n",
              "      <button class=\"colab-df-convert\" onclick=\"convertToInteractive('df-5ce5012c-f358-461c-9099-9d82901f04b6')\"\n",
              "              title=\"Convert this dataframe to an interactive table.\"\n",
              "              style=\"display:none;\">\n",
              "        \n",
              "  <svg xmlns=\"http://www.w3.org/2000/svg\" height=\"24px\"viewBox=\"0 0 24 24\"\n",
              "       width=\"24px\">\n",
              "    <path d=\"M0 0h24v24H0V0z\" fill=\"none\"/>\n",
              "    <path d=\"M18.56 5.44l.94 2.06.94-2.06 2.06-.94-2.06-.94-.94-2.06-.94 2.06-2.06.94zm-11 1L8.5 8.5l.94-2.06 2.06-.94-2.06-.94L8.5 2.5l-.94 2.06-2.06.94zm10 10l.94 2.06.94-2.06 2.06-.94-2.06-.94-.94-2.06-.94 2.06-2.06.94z\"/><path d=\"M17.41 7.96l-1.37-1.37c-.4-.4-.92-.59-1.43-.59-.52 0-1.04.2-1.43.59L10.3 9.45l-7.72 7.72c-.78.78-.78 2.05 0 2.83L4 21.41c.39.39.9.59 1.41.59.51 0 1.02-.2 1.41-.59l7.78-7.78 2.81-2.81c.8-.78.8-2.07 0-2.86zM5.41 20L4 18.59l7.72-7.72 1.47 1.35L5.41 20z\"/>\n",
              "  </svg>\n",
              "      </button>\n",
              "      \n",
              "  <style>\n",
              "    .colab-df-container {\n",
              "      display:flex;\n",
              "      flex-wrap:wrap;\n",
              "      gap: 12px;\n",
              "    }\n",
              "\n",
              "    .colab-df-convert {\n",
              "      background-color: #E8F0FE;\n",
              "      border: none;\n",
              "      border-radius: 50%;\n",
              "      cursor: pointer;\n",
              "      display: none;\n",
              "      fill: #1967D2;\n",
              "      height: 32px;\n",
              "      padding: 0 0 0 0;\n",
              "      width: 32px;\n",
              "    }\n",
              "\n",
              "    .colab-df-convert:hover {\n",
              "      background-color: #E2EBFA;\n",
              "      box-shadow: 0px 1px 2px rgba(60, 64, 67, 0.3), 0px 1px 3px 1px rgba(60, 64, 67, 0.15);\n",
              "      fill: #174EA6;\n",
              "    }\n",
              "\n",
              "    [theme=dark] .colab-df-convert {\n",
              "      background-color: #3B4455;\n",
              "      fill: #D2E3FC;\n",
              "    }\n",
              "\n",
              "    [theme=dark] .colab-df-convert:hover {\n",
              "      background-color: #434B5C;\n",
              "      box-shadow: 0px 1px 3px 1px rgba(0, 0, 0, 0.15);\n",
              "      filter: drop-shadow(0px 1px 2px rgba(0, 0, 0, 0.3));\n",
              "      fill: #FFFFFF;\n",
              "    }\n",
              "  </style>\n",
              "\n",
              "      <script>\n",
              "        const buttonEl =\n",
              "          document.querySelector('#df-5ce5012c-f358-461c-9099-9d82901f04b6 button.colab-df-convert');\n",
              "        buttonEl.style.display =\n",
              "          google.colab.kernel.accessAllowed ? 'block' : 'none';\n",
              "\n",
              "        async function convertToInteractive(key) {\n",
              "          const element = document.querySelector('#df-5ce5012c-f358-461c-9099-9d82901f04b6');\n",
              "          const dataTable =\n",
              "            await google.colab.kernel.invokeFunction('convertToInteractive',\n",
              "                                                     [key], {});\n",
              "          if (!dataTable) return;\n",
              "\n",
              "          const docLinkHtml = 'Like what you see? Visit the ' +\n",
              "            '<a target=\"_blank\" href=https://colab.research.google.com/notebooks/data_table.ipynb>data table notebook</a>'\n",
              "            + ' to learn more about interactive tables.';\n",
              "          element.innerHTML = '';\n",
              "          dataTable['output_type'] = 'display_data';\n",
              "          await google.colab.output.renderOutput(dataTable, element);\n",
              "          const docLink = document.createElement('div');\n",
              "          docLink.innerHTML = docLinkHtml;\n",
              "          element.appendChild(docLink);\n",
              "        }\n",
              "      </script>\n",
              "    </div>\n",
              "  </div>\n",
              "  "
            ]
          },
          "metadata": {},
          "execution_count": 27
        }
      ],
      "source": [
        "X_dataframe.head()"
      ]
    },
    {
      "cell_type": "code",
      "execution_count": null,
      "metadata": {
        "colab": {
          "base_uri": "https://localhost:8080/",
          "height": 424
        },
        "id": "rzWTi6Bqag3N",
        "outputId": "3889447d-bed6-4078-f855-9f2fe111163f"
      },
      "outputs": [
        {
          "output_type": "execute_result",
          "data": {
            "text/plain": [
              "            0         1         2         3         4         5         6\n",
              "0    0.000000  0.000000  0.000000  0.000000  0.000000  0.000000  0.000000\n",
              "1   -0.007299  0.078431 -0.009091  0.009174  0.018182 -0.033482  0.002309\n",
              "2    0.070560  0.068627  0.000000  0.027523 -0.015909 -0.031250 -0.023095\n",
              "3    0.060827  0.078431  0.018182 -0.006881 -0.013636 -0.055804 -0.027714\n",
              "4    0.070560  0.098039 -0.015909 -0.004587 -0.038636 -0.060268 -0.018476\n",
              "..        ...       ...       ...       ...       ...       ...       ...\n",
              "994 -0.245742 -0.245098 -0.311364 -0.318807 -0.334091 -0.337054 -0.330254\n",
              "995 -0.250608 -0.257353 -0.325000 -0.327982 -0.325000 -0.352679 -0.325635\n",
              "996 -0.262774 -0.272059 -0.334091 -0.318807 -0.340909 -0.348214 -0.327945\n",
              "997 -0.277372 -0.281863 -0.325000 -0.334862 -0.336364 -0.350446 -0.316397\n",
              "998 -0.287105 -0.272059 -0.340909 -0.330275 -0.338636 -0.339286 -0.321016\n",
              "\n",
              "[999 rows x 7 columns]"
            ],
            "text/html": [
              "\n",
              "  <div id=\"df-011498ed-2c90-41ae-adb2-3b36a4813d86\">\n",
              "    <div class=\"colab-df-container\">\n",
              "      <div>\n",
              "<style scoped>\n",
              "    .dataframe tbody tr th:only-of-type {\n",
              "        vertical-align: middle;\n",
              "    }\n",
              "\n",
              "    .dataframe tbody tr th {\n",
              "        vertical-align: top;\n",
              "    }\n",
              "\n",
              "    .dataframe thead th {\n",
              "        text-align: right;\n",
              "    }\n",
              "</style>\n",
              "<table border=\"1\" class=\"dataframe\">\n",
              "  <thead>\n",
              "    <tr style=\"text-align: right;\">\n",
              "      <th></th>\n",
              "      <th>0</th>\n",
              "      <th>1</th>\n",
              "      <th>2</th>\n",
              "      <th>3</th>\n",
              "      <th>4</th>\n",
              "      <th>5</th>\n",
              "      <th>6</th>\n",
              "    </tr>\n",
              "  </thead>\n",
              "  <tbody>\n",
              "    <tr>\n",
              "      <th>0</th>\n",
              "      <td>0.000000</td>\n",
              "      <td>0.000000</td>\n",
              "      <td>0.000000</td>\n",
              "      <td>0.000000</td>\n",
              "      <td>0.000000</td>\n",
              "      <td>0.000000</td>\n",
              "      <td>0.000000</td>\n",
              "    </tr>\n",
              "    <tr>\n",
              "      <th>1</th>\n",
              "      <td>-0.007299</td>\n",
              "      <td>0.078431</td>\n",
              "      <td>-0.009091</td>\n",
              "      <td>0.009174</td>\n",
              "      <td>0.018182</td>\n",
              "      <td>-0.033482</td>\n",
              "      <td>0.002309</td>\n",
              "    </tr>\n",
              "    <tr>\n",
              "      <th>2</th>\n",
              "      <td>0.070560</td>\n",
              "      <td>0.068627</td>\n",
              "      <td>0.000000</td>\n",
              "      <td>0.027523</td>\n",
              "      <td>-0.015909</td>\n",
              "      <td>-0.031250</td>\n",
              "      <td>-0.023095</td>\n",
              "    </tr>\n",
              "    <tr>\n",
              "      <th>3</th>\n",
              "      <td>0.060827</td>\n",
              "      <td>0.078431</td>\n",
              "      <td>0.018182</td>\n",
              "      <td>-0.006881</td>\n",
              "      <td>-0.013636</td>\n",
              "      <td>-0.055804</td>\n",
              "      <td>-0.027714</td>\n",
              "    </tr>\n",
              "    <tr>\n",
              "      <th>4</th>\n",
              "      <td>0.070560</td>\n",
              "      <td>0.098039</td>\n",
              "      <td>-0.015909</td>\n",
              "      <td>-0.004587</td>\n",
              "      <td>-0.038636</td>\n",
              "      <td>-0.060268</td>\n",
              "      <td>-0.018476</td>\n",
              "    </tr>\n",
              "    <tr>\n",
              "      <th>...</th>\n",
              "      <td>...</td>\n",
              "      <td>...</td>\n",
              "      <td>...</td>\n",
              "      <td>...</td>\n",
              "      <td>...</td>\n",
              "      <td>...</td>\n",
              "      <td>...</td>\n",
              "    </tr>\n",
              "    <tr>\n",
              "      <th>994</th>\n",
              "      <td>-0.245742</td>\n",
              "      <td>-0.245098</td>\n",
              "      <td>-0.311364</td>\n",
              "      <td>-0.318807</td>\n",
              "      <td>-0.334091</td>\n",
              "      <td>-0.337054</td>\n",
              "      <td>-0.330254</td>\n",
              "    </tr>\n",
              "    <tr>\n",
              "      <th>995</th>\n",
              "      <td>-0.250608</td>\n",
              "      <td>-0.257353</td>\n",
              "      <td>-0.325000</td>\n",
              "      <td>-0.327982</td>\n",
              "      <td>-0.325000</td>\n",
              "      <td>-0.352679</td>\n",
              "      <td>-0.325635</td>\n",
              "    </tr>\n",
              "    <tr>\n",
              "      <th>996</th>\n",
              "      <td>-0.262774</td>\n",
              "      <td>-0.272059</td>\n",
              "      <td>-0.334091</td>\n",
              "      <td>-0.318807</td>\n",
              "      <td>-0.340909</td>\n",
              "      <td>-0.348214</td>\n",
              "      <td>-0.327945</td>\n",
              "    </tr>\n",
              "    <tr>\n",
              "      <th>997</th>\n",
              "      <td>-0.277372</td>\n",
              "      <td>-0.281863</td>\n",
              "      <td>-0.325000</td>\n",
              "      <td>-0.334862</td>\n",
              "      <td>-0.336364</td>\n",
              "      <td>-0.350446</td>\n",
              "      <td>-0.316397</td>\n",
              "    </tr>\n",
              "    <tr>\n",
              "      <th>998</th>\n",
              "      <td>-0.287105</td>\n",
              "      <td>-0.272059</td>\n",
              "      <td>-0.340909</td>\n",
              "      <td>-0.330275</td>\n",
              "      <td>-0.338636</td>\n",
              "      <td>-0.339286</td>\n",
              "      <td>-0.321016</td>\n",
              "    </tr>\n",
              "  </tbody>\n",
              "</table>\n",
              "<p>999 rows × 7 columns</p>\n",
              "</div>\n",
              "      <button class=\"colab-df-convert\" onclick=\"convertToInteractive('df-011498ed-2c90-41ae-adb2-3b36a4813d86')\"\n",
              "              title=\"Convert this dataframe to an interactive table.\"\n",
              "              style=\"display:none;\">\n",
              "        \n",
              "  <svg xmlns=\"http://www.w3.org/2000/svg\" height=\"24px\"viewBox=\"0 0 24 24\"\n",
              "       width=\"24px\">\n",
              "    <path d=\"M0 0h24v24H0V0z\" fill=\"none\"/>\n",
              "    <path d=\"M18.56 5.44l.94 2.06.94-2.06 2.06-.94-2.06-.94-.94-2.06-.94 2.06-2.06.94zm-11 1L8.5 8.5l.94-2.06 2.06-.94-2.06-.94L8.5 2.5l-.94 2.06-2.06.94zm10 10l.94 2.06.94-2.06 2.06-.94-2.06-.94-.94-2.06-.94 2.06-2.06.94z\"/><path d=\"M17.41 7.96l-1.37-1.37c-.4-.4-.92-.59-1.43-.59-.52 0-1.04.2-1.43.59L10.3 9.45l-7.72 7.72c-.78.78-.78 2.05 0 2.83L4 21.41c.39.39.9.59 1.41.59.51 0 1.02-.2 1.41-.59l7.78-7.78 2.81-2.81c.8-.78.8-2.07 0-2.86zM5.41 20L4 18.59l7.72-7.72 1.47 1.35L5.41 20z\"/>\n",
              "  </svg>\n",
              "      </button>\n",
              "      \n",
              "  <style>\n",
              "    .colab-df-container {\n",
              "      display:flex;\n",
              "      flex-wrap:wrap;\n",
              "      gap: 12px;\n",
              "    }\n",
              "\n",
              "    .colab-df-convert {\n",
              "      background-color: #E8F0FE;\n",
              "      border: none;\n",
              "      border-radius: 50%;\n",
              "      cursor: pointer;\n",
              "      display: none;\n",
              "      fill: #1967D2;\n",
              "      height: 32px;\n",
              "      padding: 0 0 0 0;\n",
              "      width: 32px;\n",
              "    }\n",
              "\n",
              "    .colab-df-convert:hover {\n",
              "      background-color: #E2EBFA;\n",
              "      box-shadow: 0px 1px 2px rgba(60, 64, 67, 0.3), 0px 1px 3px 1px rgba(60, 64, 67, 0.15);\n",
              "      fill: #174EA6;\n",
              "    }\n",
              "\n",
              "    [theme=dark] .colab-df-convert {\n",
              "      background-color: #3B4455;\n",
              "      fill: #D2E3FC;\n",
              "    }\n",
              "\n",
              "    [theme=dark] .colab-df-convert:hover {\n",
              "      background-color: #434B5C;\n",
              "      box-shadow: 0px 1px 3px 1px rgba(0, 0, 0, 0.15);\n",
              "      filter: drop-shadow(0px 1px 2px rgba(0, 0, 0, 0.3));\n",
              "      fill: #FFFFFF;\n",
              "    }\n",
              "  </style>\n",
              "\n",
              "      <script>\n",
              "        const buttonEl =\n",
              "          document.querySelector('#df-011498ed-2c90-41ae-adb2-3b36a4813d86 button.colab-df-convert');\n",
              "        buttonEl.style.display =\n",
              "          google.colab.kernel.accessAllowed ? 'block' : 'none';\n",
              "\n",
              "        async function convertToInteractive(key) {\n",
              "          const element = document.querySelector('#df-011498ed-2c90-41ae-adb2-3b36a4813d86');\n",
              "          const dataTable =\n",
              "            await google.colab.kernel.invokeFunction('convertToInteractive',\n",
              "                                                     [key], {});\n",
              "          if (!dataTable) return;\n",
              "\n",
              "          const docLinkHtml = 'Like what you see? Visit the ' +\n",
              "            '<a target=\"_blank\" href=https://colab.research.google.com/notebooks/data_table.ipynb>data table notebook</a>'\n",
              "            + ' to learn more about interactive tables.';\n",
              "          element.innerHTML = '';\n",
              "          dataTable['output_type'] = 'display_data';\n",
              "          await google.colab.output.renderOutput(dataTable, element);\n",
              "          const docLink = document.createElement('div');\n",
              "          docLink.innerHTML = docLinkHtml;\n",
              "          element.appendChild(docLink);\n",
              "        }\n",
              "      </script>\n",
              "    </div>\n",
              "  </div>\n",
              "  "
            ]
          },
          "metadata": {},
          "execution_count": 28
        }
      ],
      "source": [
        "X_dataframe2 = X_dataframe.T\n",
        "X_dataframe2"
      ]
    },
    {
      "cell_type": "code",
      "execution_count": null,
      "metadata": {
        "id": "DCw9KA1obOwA"
      },
      "outputs": [],
      "source": [
        "#Bigchances si Y juga harus dilakukan ky si X_dataframe2"
      ]
    },
    {
      "cell_type": "code",
      "execution_count": null,
      "metadata": {
        "colab": {
          "base_uri": "https://localhost:8080/"
        },
        "id": "yyYAgrHbdYgX",
        "outputId": "27edf12f-67c8-435a-d466-7b237f4b32a0"
      },
      "outputs": [
        {
          "output_type": "execute_result",
          "data": {
            "text/plain": [
              "999"
            ]
          },
          "metadata": {},
          "execution_count": 30
        }
      ],
      "source": [
        "len(Y)"
      ]
    },
    {
      "cell_type": "code",
      "execution_count": null,
      "metadata": {
        "id": "1ZMSeWiydb7X"
      },
      "outputs": [],
      "source": [
        "Y_n = np.array(Y)"
      ]
    },
    {
      "cell_type": "code",
      "execution_count": null,
      "metadata": {
        "colab": {
          "base_uri": "https://localhost:8080/"
        },
        "id": "qthirzCIdfcv",
        "outputId": "b015cfeb-4378-4d36-8e96-eed33a509819"
      },
      "outputs": [
        {
          "output_type": "execute_result",
          "data": {
            "text/plain": [
              "(999, 1, 1)"
            ]
          },
          "metadata": {},
          "execution_count": 32
        }
      ],
      "source": [
        "Y_n.shape"
      ]
    },
    {
      "cell_type": "code",
      "execution_count": null,
      "metadata": {
        "id": "Ugu2-Vv-fxCw"
      },
      "outputs": [],
      "source": [
        "# 7 Data Historis\n",
        "Y_dataframe = pd.DataFrame(Y_n.reshape(999,1))\n",
        "\n",
        "# 50 Data Historis\n",
        "#Y_dataframe = pd.DataFrame(Y_n.reshape(956,1))"
      ]
    },
    {
      "cell_type": "code",
      "execution_count": null,
      "metadata": {
        "colab": {
          "base_uri": "https://localhost:8080/",
          "height": 424
        },
        "id": "aK6kPGPAf5-g",
        "outputId": "05b58edf-5598-4e5b-bd12-25f667b7703f"
      },
      "outputs": [
        {
          "output_type": "execute_result",
          "data": {
            "text/plain": [
              "            0\n",
              "0    0.004751\n",
              "1    0.000000\n",
              "2    0.009501\n",
              "3    0.083135\n",
              "4    0.052257\n",
              "..        ...\n",
              "994 -0.308789\n",
              "995 -0.296912\n",
              "996 -0.301663\n",
              "997 -0.313539\n",
              "998 -0.311164\n",
              "\n",
              "[999 rows x 1 columns]"
            ],
            "text/html": [
              "\n",
              "  <div id=\"df-2e449366-3c8a-4b6b-8c7c-366f0449e6e6\">\n",
              "    <div class=\"colab-df-container\">\n",
              "      <div>\n",
              "<style scoped>\n",
              "    .dataframe tbody tr th:only-of-type {\n",
              "        vertical-align: middle;\n",
              "    }\n",
              "\n",
              "    .dataframe tbody tr th {\n",
              "        vertical-align: top;\n",
              "    }\n",
              "\n",
              "    .dataframe thead th {\n",
              "        text-align: right;\n",
              "    }\n",
              "</style>\n",
              "<table border=\"1\" class=\"dataframe\">\n",
              "  <thead>\n",
              "    <tr style=\"text-align: right;\">\n",
              "      <th></th>\n",
              "      <th>0</th>\n",
              "    </tr>\n",
              "  </thead>\n",
              "  <tbody>\n",
              "    <tr>\n",
              "      <th>0</th>\n",
              "      <td>0.004751</td>\n",
              "    </tr>\n",
              "    <tr>\n",
              "      <th>1</th>\n",
              "      <td>0.000000</td>\n",
              "    </tr>\n",
              "    <tr>\n",
              "      <th>2</th>\n",
              "      <td>0.009501</td>\n",
              "    </tr>\n",
              "    <tr>\n",
              "      <th>3</th>\n",
              "      <td>0.083135</td>\n",
              "    </tr>\n",
              "    <tr>\n",
              "      <th>4</th>\n",
              "      <td>0.052257</td>\n",
              "    </tr>\n",
              "    <tr>\n",
              "      <th>...</th>\n",
              "      <td>...</td>\n",
              "    </tr>\n",
              "    <tr>\n",
              "      <th>994</th>\n",
              "      <td>-0.308789</td>\n",
              "    </tr>\n",
              "    <tr>\n",
              "      <th>995</th>\n",
              "      <td>-0.296912</td>\n",
              "    </tr>\n",
              "    <tr>\n",
              "      <th>996</th>\n",
              "      <td>-0.301663</td>\n",
              "    </tr>\n",
              "    <tr>\n",
              "      <th>997</th>\n",
              "      <td>-0.313539</td>\n",
              "    </tr>\n",
              "    <tr>\n",
              "      <th>998</th>\n",
              "      <td>-0.311164</td>\n",
              "    </tr>\n",
              "  </tbody>\n",
              "</table>\n",
              "<p>999 rows × 1 columns</p>\n",
              "</div>\n",
              "      <button class=\"colab-df-convert\" onclick=\"convertToInteractive('df-2e449366-3c8a-4b6b-8c7c-366f0449e6e6')\"\n",
              "              title=\"Convert this dataframe to an interactive table.\"\n",
              "              style=\"display:none;\">\n",
              "        \n",
              "  <svg xmlns=\"http://www.w3.org/2000/svg\" height=\"24px\"viewBox=\"0 0 24 24\"\n",
              "       width=\"24px\">\n",
              "    <path d=\"M0 0h24v24H0V0z\" fill=\"none\"/>\n",
              "    <path d=\"M18.56 5.44l.94 2.06.94-2.06 2.06-.94-2.06-.94-.94-2.06-.94 2.06-2.06.94zm-11 1L8.5 8.5l.94-2.06 2.06-.94-2.06-.94L8.5 2.5l-.94 2.06-2.06.94zm10 10l.94 2.06.94-2.06 2.06-.94-2.06-.94-.94-2.06-.94 2.06-2.06.94z\"/><path d=\"M17.41 7.96l-1.37-1.37c-.4-.4-.92-.59-1.43-.59-.52 0-1.04.2-1.43.59L10.3 9.45l-7.72 7.72c-.78.78-.78 2.05 0 2.83L4 21.41c.39.39.9.59 1.41.59.51 0 1.02-.2 1.41-.59l7.78-7.78 2.81-2.81c.8-.78.8-2.07 0-2.86zM5.41 20L4 18.59l7.72-7.72 1.47 1.35L5.41 20z\"/>\n",
              "  </svg>\n",
              "      </button>\n",
              "      \n",
              "  <style>\n",
              "    .colab-df-container {\n",
              "      display:flex;\n",
              "      flex-wrap:wrap;\n",
              "      gap: 12px;\n",
              "    }\n",
              "\n",
              "    .colab-df-convert {\n",
              "      background-color: #E8F0FE;\n",
              "      border: none;\n",
              "      border-radius: 50%;\n",
              "      cursor: pointer;\n",
              "      display: none;\n",
              "      fill: #1967D2;\n",
              "      height: 32px;\n",
              "      padding: 0 0 0 0;\n",
              "      width: 32px;\n",
              "    }\n",
              "\n",
              "    .colab-df-convert:hover {\n",
              "      background-color: #E2EBFA;\n",
              "      box-shadow: 0px 1px 2px rgba(60, 64, 67, 0.3), 0px 1px 3px 1px rgba(60, 64, 67, 0.15);\n",
              "      fill: #174EA6;\n",
              "    }\n",
              "\n",
              "    [theme=dark] .colab-df-convert {\n",
              "      background-color: #3B4455;\n",
              "      fill: #D2E3FC;\n",
              "    }\n",
              "\n",
              "    [theme=dark] .colab-df-convert:hover {\n",
              "      background-color: #434B5C;\n",
              "      box-shadow: 0px 1px 3px 1px rgba(0, 0, 0, 0.15);\n",
              "      filter: drop-shadow(0px 1px 2px rgba(0, 0, 0, 0.3));\n",
              "      fill: #FFFFFF;\n",
              "    }\n",
              "  </style>\n",
              "\n",
              "      <script>\n",
              "        const buttonEl =\n",
              "          document.querySelector('#df-2e449366-3c8a-4b6b-8c7c-366f0449e6e6 button.colab-df-convert');\n",
              "        buttonEl.style.display =\n",
              "          google.colab.kernel.accessAllowed ? 'block' : 'none';\n",
              "\n",
              "        async function convertToInteractive(key) {\n",
              "          const element = document.querySelector('#df-2e449366-3c8a-4b6b-8c7c-366f0449e6e6');\n",
              "          const dataTable =\n",
              "            await google.colab.kernel.invokeFunction('convertToInteractive',\n",
              "                                                     [key], {});\n",
              "          if (!dataTable) return;\n",
              "\n",
              "          const docLinkHtml = 'Like what you see? Visit the ' +\n",
              "            '<a target=\"_blank\" href=https://colab.research.google.com/notebooks/data_table.ipynb>data table notebook</a>'\n",
              "            + ' to learn more about interactive tables.';\n",
              "          element.innerHTML = '';\n",
              "          dataTable['output_type'] = 'display_data';\n",
              "          await google.colab.output.renderOutput(dataTable, element);\n",
              "          const docLink = document.createElement('div');\n",
              "          docLink.innerHTML = docLinkHtml;\n",
              "          element.appendChild(docLink);\n",
              "        }\n",
              "      </script>\n",
              "    </div>\n",
              "  </div>\n",
              "  "
            ]
          },
          "metadata": {},
          "execution_count": 34
        }
      ],
      "source": [
        "Y_dataframe"
      ]
    },
    {
      "cell_type": "code",
      "execution_count": null,
      "metadata": {
        "colab": {
          "base_uri": "https://localhost:8080/"
        },
        "id": "vQMwkDCnAGG-",
        "outputId": "5f13b580-3a9c-4f51-a3b2-2c142805bfc1"
      },
      "outputs": [
        {
          "name": "stdout",
          "output_type": "stream",
          "text": [
            "764\n",
            "192\n",
            "764\n",
            "192\n"
          ]
        }
      ],
      "source": [
        "x_train, x_test, y_train, y_test = train_test_split(X_dataframe2, Y_dataframe, test_size=0.2, shuffle = False)\n",
        "\n",
        "train_X = np.array(x_train)\n",
        "test_X = np.array(x_test)\n",
        "\n",
        "train_Y = np.array(y_train)\n",
        "test_Y = np.array(y_test)\n",
        "\n",
        "print(len(train_X))\n",
        "print(len(test_X))\n",
        "\n",
        "print(len(train_Y))\n",
        "print(len(test_Y))\n"
      ]
    },
    {
      "cell_type": "code",
      "execution_count": null,
      "metadata": {
        "colab": {
          "base_uri": "https://localhost:8080/"
        },
        "id": "ILa3MqzfOrpH",
        "outputId": "2084da97-d96c-49dd-998b-48eb9a3c1cfc"
      },
      "outputs": [
        {
          "name": "stdout",
          "output_type": "stream",
          "text": [
            "X_train shape: (764, 50)\n",
            "X_test shape: (192, 50)\n",
            "y_train shape: (764, 1)\n",
            "y_test shape: (192, 1)\n"
          ]
        }
      ],
      "source": [
        "print(\"X_train shape: {}\".format(train_X.shape))\n",
        "print(\"X_test shape: {}\".format(test_X.shape))\n",
        "\n",
        "print(\"y_train shape: {}\".format(train_Y.shape))\n",
        "print(\"y_test shape: {}\".format(test_Y.shape))\n"
      ]
    },
    {
      "cell_type": "code",
      "execution_count": null,
      "metadata": {
        "id": "_toOq4IxxYGn"
      },
      "outputs": [],
      "source": [
        "# Fitur 7 Data Historis\n",
        "#train_X = train_X.reshape(799,1,7,1)\n",
        "#test_X = test_X.reshape(200,1,7,1)\n",
        "#train_Y = train_Y.reshape(799,1,1)\n",
        "#test_Y = test_Y.reshape(200,1,1)\n",
        "\n",
        "# Fitur 50 Data Historis\n",
        "train_X = train_X.reshape(764,1,50,1)\n",
        "test_X = test_X.reshape(192,1,50,1)\n",
        "train_Y = train_Y.reshape(764,1,1)\n",
        "test_Y = test_Y.reshape(192,1,1)"
      ]
    },
    {
      "cell_type": "markdown",
      "metadata": {
        "id": "GXZpOSvvTUWy"
      },
      "source": [
        "train_X = train_X.reshape(train_X.shape[0],1,50,1)\n",
        "test_X = test_X.reshape(test_X.shape[0],1,50,1)\n",
        "\n",
        "50 itu aku bikin buat testrun aja biar mudah dilihat, sebelumnya 100"
      ]
    },
    {
      "cell_type": "code",
      "execution_count": null,
      "metadata": {
        "id": "KjiwIWjnJ9Sy"
      },
      "outputs": [],
      "source": [
        "import tensorflow as tf\n",
        "from tensorflow.keras.layers import Conv1D, LSTM, Dense, Dropout, Bidirectional, TimeDistributed\n",
        "from tensorflow.keras.layers import MaxPooling1D, Flatten\n",
        "from tensorflow.keras.regularizers import L1, L2\n",
        "from tensorflow.keras.metrics import Accuracy\n",
        "from tensorflow.keras.metrics import RootMeanSquaredError\n",
        "from keras.callbacks import EarlyStopping"
      ]
    },
    {
      "cell_type": "code",
      "execution_count": null,
      "metadata": {
        "colab": {
          "background_save": true,
          "base_uri": "https://localhost:8080/"
        },
        "id": "K7mmcNqNJ_26",
        "outputId": "19db6aa0-d57f-40fa-9a67-ebd7de843aa1"
      },
      "outputs": [
        {
          "name": "stdout",
          "output_type": "stream",
          "text": [
            "Epoch 1/1000\n",
            "24/24 [==============================] - 10s 18ms/step - loss: 0.0253 - mse: 0.0253 - mae: 0.1299\n",
            "Epoch 2/1000\n",
            "24/24 [==============================] - 0s 16ms/step - loss: 0.0100 - mse: 0.0100 - mae: 0.0755\n",
            "Epoch 3/1000\n",
            "24/24 [==============================] - 0s 17ms/step - loss: 0.0103 - mse: 0.0103 - mae: 0.0803\n",
            "Epoch 4/1000\n",
            "24/24 [==============================] - 0s 17ms/step - loss: 0.0073 - mse: 0.0073 - mae: 0.0659\n",
            "Epoch 5/1000\n",
            "24/24 [==============================] - 0s 16ms/step - loss: 0.0065 - mse: 0.0065 - mae: 0.0634\n",
            "Epoch 6/1000\n",
            "24/24 [==============================] - 0s 17ms/step - loss: 0.0041 - mse: 0.0041 - mae: 0.0481\n",
            "Epoch 7/1000\n",
            "24/24 [==============================] - 0s 17ms/step - loss: 0.0048 - mse: 0.0048 - mae: 0.0525\n",
            "Epoch 8/1000\n",
            "24/24 [==============================] - 0s 16ms/step - loss: 0.0043 - mse: 0.0043 - mae: 0.0509\n",
            "Epoch 9/1000\n",
            "24/24 [==============================] - 0s 17ms/step - loss: 0.0048 - mse: 0.0048 - mae: 0.0541\n",
            "Epoch 10/1000\n",
            "24/24 [==============================] - 0s 17ms/step - loss: 0.0046 - mse: 0.0046 - mae: 0.0529\n",
            "Epoch 11/1000\n",
            "24/24 [==============================] - 0s 17ms/step - loss: 0.0040 - mse: 0.0040 - mae: 0.0488\n",
            "Epoch 12/1000\n",
            "24/24 [==============================] - 0s 18ms/step - loss: 0.0036 - mse: 0.0036 - mae: 0.0461\n",
            "Epoch 13/1000\n",
            "24/24 [==============================] - 0s 17ms/step - loss: 0.0035 - mse: 0.0035 - mae: 0.0454\n",
            "Epoch 14/1000\n",
            "24/24 [==============================] - 0s 18ms/step - loss: 0.0031 - mse: 0.0031 - mae: 0.0419\n",
            "Epoch 15/1000\n",
            "24/24 [==============================] - 0s 16ms/step - loss: 0.0030 - mse: 0.0030 - mae: 0.0415\n",
            "Epoch 16/1000\n",
            "24/24 [==============================] - 0s 17ms/step - loss: 0.0029 - mse: 0.0029 - mae: 0.0409\n",
            "Epoch 17/1000\n",
            "24/24 [==============================] - 0s 18ms/step - loss: 0.0035 - mse: 0.0035 - mae: 0.0457\n",
            "Epoch 18/1000\n",
            "24/24 [==============================] - 0s 17ms/step - loss: 0.0041 - mse: 0.0041 - mae: 0.0490\n",
            "Epoch 19/1000\n",
            "24/24 [==============================] - 0s 19ms/step - loss: 0.0031 - mse: 0.0031 - mae: 0.0432\n",
            "Epoch 20/1000\n",
            "24/24 [==============================] - 0s 17ms/step - loss: 0.0031 - mse: 0.0031 - mae: 0.0421\n",
            "Epoch 21/1000\n",
            "24/24 [==============================] - 0s 17ms/step - loss: 0.0042 - mse: 0.0042 - mae: 0.0499\n",
            "Epoch 22/1000\n",
            "24/24 [==============================] - 0s 17ms/step - loss: 0.0051 - mse: 0.0051 - mae: 0.0566\n",
            "Epoch 23/1000\n",
            "24/24 [==============================] - 0s 17ms/step - loss: 0.0034 - mse: 0.0034 - mae: 0.0456\n",
            "Epoch 24/1000\n",
            "24/24 [==============================] - 0s 18ms/step - loss: 0.0029 - mse: 0.0029 - mae: 0.0412\n",
            "Epoch 25/1000\n",
            "24/24 [==============================] - 0s 16ms/step - loss: 0.0029 - mse: 0.0029 - mae: 0.0412\n",
            "Epoch 26/1000\n",
            "24/24 [==============================] - 0s 17ms/step - loss: 0.0032 - mse: 0.0032 - mae: 0.0426\n",
            "Epoch 27/1000\n",
            "24/24 [==============================] - 0s 16ms/step - loss: 0.0030 - mse: 0.0030 - mae: 0.0425\n",
            "Epoch 28/1000\n",
            "24/24 [==============================] - 0s 16ms/step - loss: 0.0028 - mse: 0.0028 - mae: 0.0413\n",
            "Epoch 29/1000\n",
            "24/24 [==============================] - 0s 18ms/step - loss: 0.0028 - mse: 0.0028 - mae: 0.0410\n",
            "Epoch 30/1000\n",
            "24/24 [==============================] - 0s 17ms/step - loss: 0.0033 - mse: 0.0033 - mae: 0.0450\n",
            "Epoch 31/1000\n",
            "24/24 [==============================] - 0s 17ms/step - loss: 0.0039 - mse: 0.0039 - mae: 0.0489\n",
            "Epoch 32/1000\n",
            "24/24 [==============================] - 0s 16ms/step - loss: 0.0031 - mse: 0.0031 - mae: 0.0423\n",
            "Epoch 33/1000\n",
            "24/24 [==============================] - 0s 16ms/step - loss: 0.0026 - mse: 0.0026 - mae: 0.0389\n",
            "Epoch 34/1000\n",
            "24/24 [==============================] - 0s 16ms/step - loss: 0.0027 - mse: 0.0027 - mae: 0.0395\n",
            "Epoch 35/1000\n",
            "24/24 [==============================] - 0s 16ms/step - loss: 0.0032 - mse: 0.0032 - mae: 0.0433\n",
            "Epoch 36/1000\n",
            "24/24 [==============================] - 0s 18ms/step - loss: 0.0035 - mse: 0.0035 - mae: 0.0465\n",
            "Epoch 37/1000\n",
            "24/24 [==============================] - 1s 27ms/step - loss: 0.0027 - mse: 0.0027 - mae: 0.0409\n",
            "Epoch 38/1000\n",
            "24/24 [==============================] - 1s 32ms/step - loss: 0.0022 - mse: 0.0022 - mae: 0.0354\n",
            "Epoch 39/1000\n",
            "24/24 [==============================] - 0s 16ms/step - loss: 0.0021 - mse: 0.0021 - mae: 0.0356\n",
            "Epoch 40/1000\n",
            "24/24 [==============================] - 0s 17ms/step - loss: 0.0025 - mse: 0.0025 - mae: 0.0386\n",
            "Epoch 41/1000\n",
            "24/24 [==============================] - 0s 17ms/step - loss: 0.0031 - mse: 0.0031 - mae: 0.0436\n",
            "Epoch 42/1000\n",
            "24/24 [==============================] - 0s 17ms/step - loss: 0.0036 - mse: 0.0036 - mae: 0.0474\n",
            "Epoch 43/1000\n",
            "24/24 [==============================] - 0s 16ms/step - loss: 0.0032 - mse: 0.0032 - mae: 0.0446\n",
            "Epoch 44/1000\n",
            "24/24 [==============================] - 0s 16ms/step - loss: 0.0027 - mse: 0.0027 - mae: 0.0405\n",
            "Epoch 45/1000\n",
            "24/24 [==============================] - 0s 17ms/step - loss: 0.0025 - mse: 0.0025 - mae: 0.0384\n",
            "Epoch 46/1000\n",
            "24/24 [==============================] - 0s 17ms/step - loss: 0.0028 - mse: 0.0028 - mae: 0.0410\n",
            "Epoch 47/1000\n",
            "24/24 [==============================] - 0s 17ms/step - loss: 0.0027 - mse: 0.0027 - mae: 0.0400\n",
            "Epoch 48/1000\n",
            "24/24 [==============================] - 0s 16ms/step - loss: 0.0023 - mse: 0.0023 - mae: 0.0375\n",
            "Epoch 49/1000\n",
            "24/24 [==============================] - 0s 18ms/step - loss: 0.0021 - mse: 0.0021 - mae: 0.0350\n",
            "Epoch 50/1000\n",
            "24/24 [==============================] - 0s 16ms/step - loss: 0.0023 - mse: 0.0023 - mae: 0.0366\n",
            "Epoch 51/1000\n",
            "24/24 [==============================] - 0s 16ms/step - loss: 0.0030 - mse: 0.0030 - mae: 0.0423\n",
            "Epoch 52/1000\n",
            "24/24 [==============================] - 0s 18ms/step - loss: 0.0036 - mse: 0.0036 - mae: 0.0470\n",
            "Epoch 53/1000\n",
            "24/24 [==============================] - 0s 17ms/step - loss: 0.0033 - mse: 0.0033 - mae: 0.0451\n",
            "Epoch 54/1000\n",
            "24/24 [==============================] - 0s 16ms/step - loss: 0.0023 - mse: 0.0023 - mae: 0.0371\n",
            "Epoch 55/1000\n",
            "24/24 [==============================] - 0s 17ms/step - loss: 0.0021 - mse: 0.0021 - mae: 0.0354\n",
            "Epoch 56/1000\n",
            "24/24 [==============================] - 0s 16ms/step - loss: 0.0024 - mse: 0.0024 - mae: 0.0379\n",
            "Epoch 57/1000\n",
            "24/24 [==============================] - 0s 18ms/step - loss: 0.0022 - mse: 0.0022 - mae: 0.0363\n",
            "Epoch 58/1000\n",
            "24/24 [==============================] - 0s 16ms/step - loss: 0.0023 - mse: 0.0023 - mae: 0.0366\n",
            "Epoch 59/1000\n",
            "24/24 [==============================] - 0s 17ms/step - loss: 0.0023 - mse: 0.0023 - mae: 0.0367\n",
            "Epoch 60/1000\n",
            "24/24 [==============================] - 0s 17ms/step - loss: 0.0020 - mse: 0.0020 - mae: 0.0343\n",
            "Epoch 61/1000\n",
            "24/24 [==============================] - 0s 16ms/step - loss: 0.0020 - mse: 0.0020 - mae: 0.0343\n",
            "Epoch 62/1000\n",
            "24/24 [==============================] - 0s 17ms/step - loss: 0.0021 - mse: 0.0021 - mae: 0.0350\n",
            "Epoch 63/1000\n",
            "24/24 [==============================] - 0s 16ms/step - loss: 0.0026 - mse: 0.0026 - mae: 0.0387\n",
            "Epoch 64/1000\n",
            "24/24 [==============================] - 0s 17ms/step - loss: 0.0032 - mse: 0.0032 - mae: 0.0451\n",
            "Epoch 65/1000\n",
            "24/24 [==============================] - 0s 16ms/step - loss: 0.0030 - mse: 0.0030 - mae: 0.0429\n",
            "Epoch 66/1000\n",
            "24/24 [==============================] - 0s 17ms/step - loss: 0.0027 - mse: 0.0027 - mae: 0.0397\n",
            "Epoch 67/1000\n",
            "24/24 [==============================] - 0s 17ms/step - loss: 0.0029 - mse: 0.0029 - mae: 0.0417\n",
            "Epoch 68/1000\n",
            "24/24 [==============================] - 0s 17ms/step - loss: 0.0031 - mse: 0.0031 - mae: 0.0435\n",
            "Epoch 69/1000\n",
            "24/24 [==============================] - 0s 17ms/step - loss: 0.0032 - mse: 0.0032 - mae: 0.0450\n",
            "Epoch 70/1000\n",
            "24/24 [==============================] - 0s 17ms/step - loss: 0.0024 - mse: 0.0024 - mae: 0.0382\n",
            "Epoch 71/1000\n",
            "24/24 [==============================] - 0s 17ms/step - loss: 0.0021 - mse: 0.0021 - mae: 0.0357\n",
            "Epoch 72/1000\n",
            "24/24 [==============================] - 0s 17ms/step - loss: 0.0021 - mse: 0.0021 - mae: 0.0351\n",
            "Epoch 73/1000\n",
            "24/24 [==============================] - 0s 16ms/step - loss: 0.0023 - mse: 0.0023 - mae: 0.0381\n",
            "Epoch 74/1000\n",
            "24/24 [==============================] - 0s 17ms/step - loss: 0.0028 - mse: 0.0028 - mae: 0.0414\n",
            "Epoch 75/1000\n",
            "24/24 [==============================] - 0s 16ms/step - loss: 0.0023 - mse: 0.0023 - mae: 0.0374\n",
            "Epoch 76/1000\n",
            "24/24 [==============================] - 0s 16ms/step - loss: 0.0019 - mse: 0.0019 - mae: 0.0337\n",
            "Epoch 77/1000\n",
            "24/24 [==============================] - 0s 17ms/step - loss: 0.0020 - mse: 0.0020 - mae: 0.0344\n",
            "Epoch 78/1000\n",
            "24/24 [==============================] - 0s 16ms/step - loss: 0.0025 - mse: 0.0025 - mae: 0.0386\n",
            "Epoch 79/1000\n",
            "24/24 [==============================] - 0s 17ms/step - loss: 0.0022 - mse: 0.0022 - mae: 0.0361\n",
            "Epoch 80/1000\n",
            "24/24 [==============================] - 0s 17ms/step - loss: 0.0019 - mse: 0.0019 - mae: 0.0335\n",
            "Epoch 81/1000\n",
            "24/24 [==============================] - 0s 17ms/step - loss: 0.0016 - mse: 0.0016 - mae: 0.0313\n",
            "Epoch 82/1000\n",
            "24/24 [==============================] - 0s 18ms/step - loss: 0.0017 - mse: 0.0017 - mae: 0.0317\n",
            "Epoch 83/1000\n",
            "24/24 [==============================] - 0s 16ms/step - loss: 0.0018 - mse: 0.0018 - mae: 0.0326\n",
            "Epoch 84/1000\n",
            "24/24 [==============================] - 0s 18ms/step - loss: 0.0019 - mse: 0.0019 - mae: 0.0338\n",
            "Epoch 85/1000\n",
            "24/24 [==============================] - 0s 16ms/step - loss: 0.0022 - mse: 0.0022 - mae: 0.0362\n",
            "Epoch 86/1000\n",
            "24/24 [==============================] - 0s 17ms/step - loss: 0.0026 - mse: 0.0026 - mae: 0.0398\n",
            "Epoch 87/1000\n",
            "24/24 [==============================] - 0s 20ms/step - loss: 0.0030 - mse: 0.0030 - mae: 0.0424\n",
            "Epoch 88/1000\n",
            "24/24 [==============================] - 0s 19ms/step - loss: 0.0030 - mse: 0.0030 - mae: 0.0426\n",
            "Epoch 89/1000\n",
            "24/24 [==============================] - 1s 31ms/step - loss: 0.0022 - mse: 0.0022 - mae: 0.0361\n",
            "Epoch 90/1000\n",
            "24/24 [==============================] - 1s 33ms/step - loss: 0.0018 - mse: 0.0018 - mae: 0.0324\n",
            "Epoch 91/1000\n",
            "24/24 [==============================] - 1s 31ms/step - loss: 0.0020 - mse: 0.0020 - mae: 0.0349\n",
            "Epoch 92/1000\n",
            "24/24 [==============================] - 1s 29ms/step - loss: 0.0027 - mse: 0.0027 - mae: 0.0410\n",
            "Epoch 93/1000\n",
            "24/24 [==============================] - 1s 37ms/step - loss: 0.0028 - mse: 0.0028 - mae: 0.0414\n",
            "Epoch 94/1000\n",
            "24/24 [==============================] - 1s 22ms/step - loss: 0.0020 - mse: 0.0020 - mae: 0.0337\n",
            "Epoch 95/1000\n",
            "24/24 [==============================] - 0s 16ms/step - loss: 0.0018 - mse: 0.0018 - mae: 0.0331\n",
            "Epoch 96/1000\n",
            "24/24 [==============================] - 0s 18ms/step - loss: 0.0021 - mse: 0.0021 - mae: 0.0357\n",
            "Epoch 97/1000\n",
            "24/24 [==============================] - 0s 17ms/step - loss: 0.0024 - mse: 0.0024 - mae: 0.0384\n",
            "Epoch 98/1000\n",
            "24/24 [==============================] - 0s 17ms/step - loss: 0.0023 - mse: 0.0023 - mae: 0.0368\n",
            "Epoch 99/1000\n",
            "24/24 [==============================] - 0s 17ms/step - loss: 0.0022 - mse: 0.0022 - mae: 0.0363\n",
            "Epoch 100/1000\n",
            "24/24 [==============================] - 0s 17ms/step - loss: 0.0020 - mse: 0.0020 - mae: 0.0334\n",
            "Epoch 101/1000\n",
            "24/24 [==============================] - 0s 17ms/step - loss: 0.0020 - mse: 0.0020 - mae: 0.0346\n",
            "Epoch 101: early stopping\n"
          ]
        }
      ],
      "source": [
        "model = tf.keras.Sequential()\n",
        "\n",
        "# Creating the Neural Network model here...\n",
        "# CNN layers\n",
        "model.add(TimeDistributed(Conv1D(32, kernel_size=1, activation='relu', padding = 'same', input_shape=(None, 100, 1))))\n",
        "model.add(TimeDistributed(MaxPooling1D(1)))\n",
        "\n",
        "#model.add(TimeDistributed(Conv1D(32, kernel_size=1, activation='relu', padding = 'same', input_shape=(None, 100, 1))))\n",
        "#model.add(TimeDistributed(MaxPooling1D(1)))\n",
        "\n",
        "#model.add(TimeDistributed(Conv1D(32, kernel_size=1, activation='relu', padding = 'same', input_shape=(None, 100, 1))))\n",
        "#model.add(TimeDistributed(MaxPooling1D(1)))\n",
        "\n",
        "#model.add(TimeDistributed(Conv1D(32, kernel_size=1, activation='relu', padding = 'same', input_shape=(None, 100, 1))))\n",
        "#model.add(TimeDistributed(MaxPooling1D(1)))\n",
        "\n",
        "#model.add(TimeDistributed(Conv1D(32, kernel_size=1, activation='relu', padding = 'same', input_shape=(None, 100, 1))))\n",
        "#model.add(TimeDistributed(MaxPooling1D(1)))\n",
        "\n",
        "model.add(TimeDistributed(Flatten()))\n",
        "\n",
        "# BiLSTM Layer\n",
        "model.add(Bidirectional(LSTM(units = 64, activation = 'tanh', return_sequences=True)))\n",
        "model.add(Bidirectional(LSTM(units = 64, activation = 'tanh', return_sequences=False)))\n",
        "\n",
        "# LSTM layers\n",
        "#model.add(LSTM(units = 64, activation = 'tanh', return_sequences=True))\n",
        "#model.add(LSTM(units = 64, activation = 'tanh', return_sequences=False))\n",
        "\n",
        "model.add(Dropout(0.6))\n",
        "\n",
        "\n",
        "#Final layers\n",
        "model.add(Dense(1))\n",
        "model.compile(optimizer='adam', loss='mse', metrics=['mse', 'mae'])\n",
        "\n",
        "es = EarlyStopping(monitor='loss', mode='min', verbose=1, patience = 20)\n",
        "history = model.fit(train_X, train_Y, validation_data = None, epochs=1000, batch_size=32, verbose=1, shuffle = False, callbacks = [es])"
      ]
    },
    {
      "cell_type": "markdown",
      "metadata": {
        "id": "-B8ylqv5Uq8q"
      },
      "source": [
        "batch_size = 32 itu default"
      ]
    },
    {
      "cell_type": "code",
      "execution_count": null,
      "metadata": {
        "colab": {
          "base_uri": "https://localhost:8080/"
        },
        "id": "R_MNg_qGaJgi",
        "outputId": "71fabf95-72c4-414c-e125-611906704432"
      },
      "outputs": [
        {
          "name": "stdout",
          "output_type": "stream",
          "text": [
            "24/24 [==============================] - 2s 6ms/step\n"
          ]
        }
      ],
      "source": [
        "valpredTrain = model.predict(train_X)"
      ]
    },
    {
      "cell_type": "code",
      "execution_count": null,
      "metadata": {
        "colab": {
          "base_uri": "https://localhost:8080/"
        },
        "id": "gA5WyVQ1bAk9",
        "outputId": "fbe3847b-ef5f-4bc1-cca3-83150c33bd63"
      },
      "outputs": [
        {
          "data": {
            "text/plain": [
              "(764, 1)"
            ]
          },
          "execution_count": 2378,
          "metadata": {},
          "output_type": "execute_result"
        }
      ],
      "source": [
        "valpredTrain.shape"
      ]
    },
    {
      "cell_type": "code",
      "execution_count": null,
      "metadata": {
        "id": "whNm3_tRbO1J"
      },
      "outputs": [],
      "source": [
        "valpredTrainin1d = valpredTrain[:, 0]"
      ]
    },
    {
      "cell_type": "code",
      "execution_count": null,
      "metadata": {
        "colab": {
          "base_uri": "https://localhost:8080/"
        },
        "id": "05NYiIJKbT1e",
        "outputId": "1d047f14-4aba-424e-90b7-608604d7fd97"
      },
      "outputs": [
        {
          "data": {
            "text/plain": [
              "(764,)"
            ]
          },
          "execution_count": 2380,
          "metadata": {},
          "output_type": "execute_result"
        }
      ],
      "source": [
        "valpredTrainin1d.shape"
      ]
    },
    {
      "cell_type": "code",
      "execution_count": null,
      "metadata": {
        "colab": {
          "base_uri": "https://localhost:8080/"
        },
        "id": "ujOZ91oifQN0",
        "outputId": "41d731b5-84c3-4fae-a5a9-eb8608efe3bb"
      },
      "outputs": [
        {
          "data": {
            "text/plain": [
              "(764, 1, 1)"
            ]
          },
          "execution_count": 2381,
          "metadata": {},
          "output_type": "execute_result"
        }
      ],
      "source": [
        "train_Y.shape"
      ]
    },
    {
      "cell_type": "code",
      "execution_count": null,
      "metadata": {
        "id": "sV_O55aqgnGF"
      },
      "outputs": [],
      "source": [
        "train_Y_reshape = train_Y.reshape(-1,1)"
      ]
    },
    {
      "cell_type": "code",
      "execution_count": null,
      "metadata": {
        "colab": {
          "base_uri": "https://localhost:8080/"
        },
        "id": "D5OgkCjpiRqr",
        "outputId": "3770e7c4-8b67-480b-ccd9-34a7fef6b21f"
      },
      "outputs": [
        {
          "data": {
            "text/plain": [
              "(764, 1)"
            ]
          },
          "execution_count": 2383,
          "metadata": {},
          "output_type": "execute_result"
        }
      ],
      "source": [
        "train_Y_reshape.shape"
      ]
    },
    {
      "cell_type": "code",
      "execution_count": null,
      "metadata": {
        "colab": {
          "base_uri": "https://localhost:8080/"
        },
        "id": "nIbWjZVtZgDA",
        "outputId": "06d9d44e-66be-42c3-dad8-67b41aedb270"
      },
      "outputs": [
        {
          "name": "stdout",
          "output_type": "stream",
          "text": [
            "R2 Score: 0.818667\n"
          ]
        }
      ],
      "source": [
        "from sklearn.metrics import r2_score\n",
        "R2 = r2_score(train_Y_reshape, valpredTrainin1d)\n",
        "print('R2 Score: %f' % R2)"
      ]
    },
    {
      "cell_type": "code",
      "execution_count": null,
      "metadata": {
        "colab": {
          "base_uri": "https://localhost:8080/",
          "height": 1000
        },
        "id": "46tZz2z6NDYy",
        "outputId": "c12a255e-6654-4566-88bd-968720c532ba"
      },
      "outputs": [
        {
          "name": "stdout",
          "output_type": "stream",
          "text": [
            "Model: \"sequential_32\"\n",
            "_________________________________________________________________\n",
            " Layer (type)                Output Shape              Param #   \n",
            "=================================================================\n",
            " time_distributed_96 (TimeDi  (None, 1, 50, 32)        64        \n",
            " stributed)                                                      \n",
            "                                                                 \n",
            " time_distributed_97 (TimeDi  (None, 1, 50, 32)        0         \n",
            " stributed)                                                      \n",
            "                                                                 \n",
            " time_distributed_98 (TimeDi  (None, 1, 1600)          0         \n",
            " stributed)                                                      \n",
            "                                                                 \n",
            " bidirectional_62 (Bidirecti  (None, 1, 128)           852480    \n",
            " onal)                                                           \n",
            "                                                                 \n",
            " bidirectional_63 (Bidirecti  (None, 128)              98816     \n",
            " onal)                                                           \n",
            "                                                                 \n",
            " dropout_32 (Dropout)        (None, 128)               0         \n",
            "                                                                 \n",
            " dense_32 (Dense)            (None, 1)                 129       \n",
            "                                                                 \n",
            "=================================================================\n",
            "Total params: 951,489\n",
            "Trainable params: 951,489\n",
            "Non-trainable params: 0\n",
            "_________________________________________________________________\n",
            "None\n"
          ]
        },
        {
          "data": {
            "image/png": "[encoded data removed]",
            "text/plain": [
              "<IPython.core.display.Image object>"
            ]
          },
          "execution_count": 2385,
          "metadata": {},
          "output_type": "execute_result"
        }
      ],
      "source": [
        "# After the model architect has been constructed, we'll summarise it\n",
        "from tensorflow.keras.utils import plot_model\n",
        "print(model.summary())\n",
        "plot_model(model, to_file='model.png', show_shapes=True, show_layer_names=True)"
      ]
    },
    {
      "cell_type": "code",
      "execution_count": null,
      "metadata": {
        "colab": {
          "base_uri": "https://localhost:8080/"
        },
        "id": "eD66ypZlR74N",
        "outputId": "10184078-da59-43f8-a433-d3f93eb5a6fc"
      },
      "outputs": [
        {
          "name": "stdout",
          "output_type": "stream",
          "text": [
            "6/6 [==============================] - 2s 6ms/step - loss: 0.0023 - mse: 0.0023 - mae: 0.0386\n"
          ]
        },
        {
          "data": {
            "text/plain": [
              "[0.002262250753119588, 0.002262250753119588, 0.03862844035029411]"
            ]
          },
          "execution_count": 2386,
          "metadata": {},
          "output_type": "execute_result"
        }
      ],
      "source": [
        "model.evaluate(test_X, test_Y)"
      ]
    },
    {
      "cell_type": "code",
      "execution_count": null,
      "metadata": {
        "id": "OjjoMk2Ha5da"
      },
      "outputs": [],
      "source": [
        "from sklearn.metrics import explained_variance_score, mean_poisson_deviance, mean_gamma_deviance\n",
        "from sklearn.metrics import r2_score\n",
        "from sklearn.metrics import max_error\n",
        "from sklearn.metrics import precision_recall_fscore_support\n",
        "from sklearn.metrics import mean_squared_error\n",
        "from sklearn.metrics import mean_absolute_error"
      ]
    },
    {
      "cell_type": "code",
      "execution_count": null,
      "metadata": {
        "colab": {
          "base_uri": "https://localhost:8080/"
        },
        "id": "eFMuG6jVgxZG",
        "outputId": "b6bad422-ef89-467d-d78a-b3124752f068"
      },
      "outputs": [
        {
          "name": "stdout",
          "output_type": "stream",
          "text": [
            "6/6 [==============================] - 0s 6ms/step\n"
          ]
        }
      ],
      "source": [
        "valpredtest = model.predict(test_X) #ini prediksi angka"
      ]
    },
    {
      "cell_type": "code",
      "execution_count": null,
      "metadata": {
        "colab": {
          "base_uri": "https://localhost:8080/"
        },
        "id": "NERgydgiY6De",
        "outputId": "30f042b8-6cf5-4937-9d1f-651d9c6b9e5d"
      },
      "outputs": [
        {
          "data": {
            "text/plain": [
              "array([[-0.05188159],\n",
              "       [-0.05097546],\n",
              "       [-0.05006835],\n",
              "       [-0.05085443],\n",
              "       [-0.05057642],\n",
              "       [-0.04989509],\n",
              "       [-0.04970586],\n",
              "       [-0.04998868],\n",
              "       [-0.05002976],\n",
              "       [-0.05367712],\n",
              "       [-0.05669784],\n",
              "       [-0.05817447],\n",
              "       [-0.05984027],\n",
              "       [-0.06309593],\n",
              "       [-0.06961456],\n",
              "       [-0.07473128],\n",
              "       [-0.07954862],\n",
              "       [-0.08732648],\n",
              "       [-0.09375372],\n",
              "       [-0.0969809 ],\n",
              "       [-0.09994661],\n",
              "       [-0.10474743],\n",
              "       [-0.11036588],\n",
              "       [-0.11321607],\n",
              "       [-0.11538171],\n",
              "       [-0.11770121],\n",
              "       [-0.11907116],\n",
              "       [-0.11897936],\n",
              "       [-0.12155665],\n",
              "       [-0.12839022],\n",
              "       [-0.13348977],\n",
              "       [-0.13807   ],\n",
              "       [-0.14173129],\n",
              "       [-0.14529517],\n",
              "       [-0.14837718],\n",
              "       [-0.15116352],\n",
              "       [-0.15450847],\n",
              "       [-0.15710524],\n",
              "       [-0.16072594],\n",
              "       [-0.16853064],\n",
              "       [-0.17529403],\n",
              "       [-0.18209316],\n",
              "       [-0.18372263],\n",
              "       [-0.18546653],\n",
              "       [-0.18617822],\n",
              "       [-0.18505271],\n",
              "       [-0.17669523],\n",
              "       [-0.17127797],\n",
              "       [-0.16849026],\n",
              "       [-0.16969812],\n",
              "       [-0.1725229 ],\n",
              "       [-0.17349894],\n",
              "       [-0.1753923 ],\n",
              "       [-0.17226146],\n",
              "       [-0.16941378],\n",
              "       [-0.16924833],\n",
              "       [-0.1678212 ],\n",
              "       [-0.16947913],\n",
              "       [-0.17499089],\n",
              "       [-0.18195926],\n",
              "       [-0.18733948],\n",
              "       [-0.19439174],\n",
              "       [-0.20150489],\n",
              "       [-0.20723899],\n",
              "       [-0.2131974 ],\n",
              "       [-0.21755092],\n",
              "       [-0.22090417],\n",
              "       [-0.2227086 ],\n",
              "       [-0.21904469],\n",
              "       [-0.2175808 ],\n",
              "       [-0.21160427],\n",
              "       [-0.20941041],\n",
              "       [-0.20901743],\n",
              "       [-0.20599505],\n",
              "       [-0.2039334 ],\n",
              "       [-0.20387171],\n",
              "       [-0.20407611],\n",
              "       [-0.20325142],\n",
              "       [-0.20064902],\n",
              "       [-0.19763342],\n",
              "       [-0.19565263],\n",
              "       [-0.18815744],\n",
              "       [-0.18309325],\n",
              "       [-0.17815724],\n",
              "       [-0.17444247],\n",
              "       [-0.17234962],\n",
              "       [-0.16947694],\n",
              "       [-0.16779897],\n",
              "       [-0.16609065],\n",
              "       [-0.1653935 ],\n",
              "       [-0.16316277],\n",
              "       [-0.16454986],\n",
              "       [-0.16386887],\n",
              "       [-0.16326764],\n",
              "       [-0.161348  ],\n",
              "       [-0.15463975],\n",
              "       [-0.15009908],\n",
              "       [-0.14695776],\n",
              "       [-0.1469411 ],\n",
              "       [-0.15178788],\n",
              "       [-0.15694377],\n",
              "       [-0.16211125],\n",
              "       [-0.16720876],\n",
              "       [-0.17056715],\n",
              "       [-0.17309111],\n",
              "       [-0.17611781],\n",
              "       [-0.17709863],\n",
              "       [-0.17747939],\n",
              "       [-0.17467518],\n",
              "       [-0.1718288 ],\n",
              "       [-0.16530228],\n",
              "       [-0.15950716],\n",
              "       [-0.15615648],\n",
              "       [-0.15278876],\n",
              "       [-0.14862086],\n",
              "       [-0.14500277],\n",
              "       [-0.14240871],\n",
              "       [-0.13911846],\n",
              "       [-0.13425013],\n",
              "       [-0.13090536],\n",
              "       [-0.1310734 ],\n",
              "       [-0.13316807],\n",
              "       [-0.13578627],\n",
              "       [-0.1349243 ],\n",
              "       [-0.13158895],\n",
              "       [-0.12693669],\n",
              "       [-0.1235727 ],\n",
              "       [-0.11484163],\n",
              "       [-0.10885702],\n",
              "       [-0.10380646],\n",
              "       [-0.0988296 ],\n",
              "       [-0.09331422],\n",
              "       [-0.08865794],\n",
              "       [-0.0837996 ],\n",
              "       [-0.08061827],\n",
              "       [-0.07633754],\n",
              "       [-0.07243457],\n",
              "       [-0.0691532 ],\n",
              "       [-0.06635018],\n",
              "       [-0.06300306],\n",
              "       [-0.05962438],\n",
              "       [-0.05622166],\n",
              "       [-0.05222356],\n",
              "       [-0.04851022],\n",
              "       [-0.04633254],\n",
              "       [-0.04336576],\n",
              "       [-0.0409905 ],\n",
              "       [-0.03979137],\n",
              "       [-0.03976803],\n",
              "       [-0.03887996],\n",
              "       [-0.03801479],\n",
              "       [-0.04026705],\n",
              "       [-0.04032858],\n",
              "       [-0.04113863],\n",
              "       [-0.04319812],\n",
              "       [-0.04653783],\n",
              "       [-0.04852959],\n",
              "       [-0.04976662],\n",
              "       [-0.05035596],\n",
              "       [-0.05134474],\n",
              "       [-0.05586276],\n",
              "       [-0.0574026 ],\n",
              "       [-0.05643996],\n",
              "       [-0.05840079],\n",
              "       [-0.05902039],\n",
              "       [-0.06122398],\n",
              "       [-0.06277158],\n",
              "       [-0.06391721],\n",
              "       [-0.06401569],\n",
              "       [-0.06578001],\n",
              "       [-0.06432955],\n",
              "       [-0.06407369],\n",
              "       [-0.06427135],\n",
              "       [-0.06279527],\n",
              "       [-0.0629549 ],\n",
              "       [-0.06261761],\n",
              "       [-0.06178857],\n",
              "       [-0.06019646],\n",
              "       [-0.05805486],\n",
              "       [-0.05685049],\n",
              "       [-0.05603886],\n",
              "       [-0.0551359 ],\n",
              "       [-0.05477103],\n",
              "       [-0.05396197],\n",
              "       [-0.05296675],\n",
              "       [-0.05323521],\n",
              "       [-0.05197266],\n",
              "       [-0.05087838],\n",
              "       [-0.05058314],\n",
              "       [-0.05050004],\n",
              "       [-0.0518348 ],\n",
              "       [-0.05107085]], dtype=float32)"
            ]
          },
          "execution_count": 2389,
          "metadata": {},
          "output_type": "execute_result"
        }
      ],
      "source": [
        "valpredtest"
      ]
    },
    {
      "cell_type": "code",
      "execution_count": null,
      "metadata": {
        "colab": {
          "base_uri": "https://localhost:8080/"
        },
        "id": "FTgosywebGlL",
        "outputId": "9ef75f6d-e525-4ef3-dc41-81f74e7ecd11"
      },
      "outputs": [
        {
          "data": {
            "text/plain": [
              "(192, 1)"
            ]
          },
          "execution_count": 2390,
          "metadata": {},
          "output_type": "execute_result"
        }
      ],
      "source": [
        "valpredtest.shape"
      ]
    },
    {
      "cell_type": "code",
      "execution_count": null,
      "metadata": {
        "id": "E5qC7NwWg6mC"
      },
      "outputs": [],
      "source": [
        "# reduce to 1d array\n",
        "valpredtestin1d = valpredtest[:, 0]"
      ]
    },
    {
      "cell_type": "code",
      "execution_count": null,
      "metadata": {
        "colab": {
          "base_uri": "https://localhost:8080/"
        },
        "id": "3h36i4B2bJ-1",
        "outputId": "f000004f-c6dc-4e00-b14e-89cb95a1ffb1"
      },
      "outputs": [
        {
          "data": {
            "text/plain": [
              "(192,)"
            ]
          },
          "execution_count": 2392,
          "metadata": {},
          "output_type": "execute_result"
        }
      ],
      "source": [
        "valpredtestin1d.shape"
      ]
    },
    {
      "cell_type": "code",
      "execution_count": null,
      "metadata": {
        "colab": {
          "base_uri": "https://localhost:8080/"
        },
        "id": "z2bacfNHb76q",
        "outputId": "60670cc4-eb4b-4b60-d494-b711a897ba56"
      },
      "outputs": [
        {
          "data": {
            "text/plain": [
              "(192, 1, 1)"
            ]
          },
          "execution_count": 2393,
          "metadata": {},
          "output_type": "execute_result"
        }
      ],
      "source": [
        "test_Y.shape"
      ]
    },
    {
      "cell_type": "code",
      "execution_count": null,
      "metadata": {
        "id": "uvjU0IYEeJjJ"
      },
      "outputs": [],
      "source": [
        "test_Y_reshape = test_Y.reshape(-1,1)"
      ]
    },
    {
      "cell_type": "code",
      "execution_count": null,
      "metadata": {
        "colab": {
          "base_uri": "https://localhost:8080/"
        },
        "id": "9B1krJ6TeT75",
        "outputId": "d5fbf43a-fc99-4887-f3b7-8fd1451f53bb"
      },
      "outputs": [
        {
          "data": {
            "text/plain": [
              "(192, 1)"
            ]
          },
          "execution_count": 2395,
          "metadata": {},
          "output_type": "execute_result"
        }
      ],
      "source": [
        "test_Y_reshape.shape"
      ]
    },
    {
      "cell_type": "code",
      "execution_count": null,
      "metadata": {
        "colab": {
          "base_uri": "https://localhost:8080/"
        },
        "id": "dz_X8vwcm1rv",
        "outputId": "6966204c-71c1-4b26-8ee6-b1f6eb5d539a"
      },
      "outputs": [
        {
          "data": {
            "text/plain": [
              "array([[-0.01792115],\n",
              "       [-0.03584229],\n",
              "       [-0.03225806],\n",
              "       [-0.03942652],\n",
              "       [-0.05734767],\n",
              "       [-0.0609319 ],\n",
              "       [-0.05017921],\n",
              "       [-0.08960573],\n",
              "       [-0.09677419],\n",
              "       [-0.09677419]])"
            ]
          },
          "execution_count": 2396,
          "metadata": {},
          "output_type": "execute_result"
        }
      ],
      "source": [
        "test_Y_reshape[0:10]"
      ]
    },
    {
      "cell_type": "code",
      "execution_count": null,
      "metadata": {
        "colab": {
          "base_uri": "https://localhost:8080/"
        },
        "id": "KVIRhJCzm2Kp",
        "outputId": "8f7deb23-4be4-4483-ae9c-a20713cfba5b"
      },
      "outputs": [
        {
          "data": {
            "text/plain": [
              "array([-0.05188159, -0.05097546, -0.05006835, -0.05085443, -0.05057642,\n",
              "       -0.04989509, -0.04970586, -0.04998868, -0.05002976, -0.05367712],\n",
              "      dtype=float32)"
            ]
          },
          "execution_count": 2397,
          "metadata": {},
          "output_type": "execute_result"
        }
      ],
      "source": [
        "valpredtestin1d[0:10]"
      ]
    },
    {
      "cell_type": "code",
      "execution_count": null,
      "metadata": {
        "colab": {
          "base_uri": "https://localhost:8080/"
        },
        "id": "Ix0r7_zrnOYv",
        "outputId": "d9df597c-17a4-4281-c228-4f0053c6d576"
      },
      "outputs": [
        {
          "name": "stdout",
          "output_type": "stream",
          "text": [
            "Mean Squared Error 0.002262\n",
            "Mean Absolute Error 0.038628\n",
            "Root Mean Squared Error 0.047563\n",
            "============================\n",
            "Mean Squared Error 0.000761\n",
            "Mean Absolute Error 0.022607\n",
            "Root Mean Squared Error 0.027586\n"
          ]
        }
      ],
      "source": [
        "#Use all test_Y_reshape data and valpredtestin1d data\n",
        "\n",
        "MSE_Test = mean_squared_error(test_Y.reshape(-1,1), valpredtestin1d, squared = True)\n",
        "print('Mean Squared Error %f' % MSE_Test)\n",
        "\n",
        "MAE_Test = mean_absolute_error(test_Y.reshape(-1,1), valpredtestin1d)\n",
        "print('Mean Absolute Error %f' %MAE_Test)\n",
        "\n",
        "RMSE_Test = mean_squared_error(test_Y.reshape(-1,1), valpredtestin1d, squared = False)\n",
        "print('Root Mean Squared Error %f' % RMSE_Test)\n",
        "\n",
        "\n",
        "print('============================')\n",
        "#Use first 10 data in test_Y_reshape and valpredtestin1d\n",
        "test_Y_first10 = test_Y_reshape[0:10]\n",
        "valpredtestin1d_first10 = valpredtestin1d[0:10]\n",
        "\n",
        "MSE_10 = mean_squared_error(test_Y_first10, valpredtestin1d_first10, squared = True)\n",
        "print('Mean Squared Error %f' % MSE_10)\n",
        "\n",
        "MAE_10 = mean_absolute_error(test_Y_first10, valpredtestin1d_first10)\n",
        "print('Mean Absolute Error %f' %MAE_10)\n",
        "\n",
        "RMSE_10 = mean_squared_error(test_Y_first10, valpredtestin1d_first10, squared = False)\n",
        "print('Root Mean Squared Error %f' % RMSE_10)"
      ]
    },
    {
      "cell_type": "code",
      "execution_count": null,
      "metadata": {
        "colab": {
          "base_uri": "https://localhost:8080/"
        },
        "id": "ipJfTPF9oGz4",
        "outputId": "b3ae2cb6-d1f0-4801-d93c-9d633d8b6572"
      },
      "outputs": [
        {
          "name": "stdout",
          "output_type": "stream",
          "text": [
            "0.00226 0.03863 0.04756 0.00076 0.02261 0.02759\n"
          ]
        }
      ],
      "source": [
        "print('%.5f'% MSE_Test, '%.5f'% MAE_Test, '%.5f'% RMSE_Test, '%.5f'% MSE_10, '%.5f'% MAE_10, '%.5f'% RMSE_10)"
      ]
    },
    {
      "cell_type": "code",
      "execution_count": null,
      "metadata": {
        "colab": {
          "base_uri": "https://localhost:8080/"
        },
        "id": "2G7LIC71piio",
        "outputId": "56ac4a8e-42d9-4617-ab51-8e66f4aa49ad"
      },
      "outputs": [
        {
          "data": {
            "text/plain": [
              "(956, 1)"
            ]
          },
          "execution_count": 2400,
          "metadata": {},
          "output_type": "execute_result"
        }
      ],
      "source": [
        "valpredreal = np.concatenate((valpredTrain,valpredtest)) #ini nilai scaling terus di proses jadi hasil prediksi\n",
        "valpredreal.shape"
      ]
    },
    {
      "cell_type": "code",
      "execution_count": null,
      "metadata": {
        "id": "eejf2mBKpmAE"
      },
      "outputs": [],
      "source": [
        "##sampai disini bagian memasukkan hasil prediksi training ke testing kedalam 1 array sudah berhasil\n",
        "#ini nanti akan menjadi Data Predicted Stock Price"
      ]
    },
    {
      "cell_type": "code",
      "execution_count": null,
      "metadata": {
        "id": "n7Oi74vtpnJN"
      },
      "outputs": [],
      "source": [
        "#Sekarang akan masuk ke tahap menyatukan kembali real stock price ke dalam 1 array yang sama"
      ]
    },
    {
      "cell_type": "code",
      "execution_count": null,
      "metadata": {
        "colab": {
          "base_uri": "https://localhost:8080/"
        },
        "id": "AZ98ee_9pofW",
        "outputId": "f06c471c-17c9-4c09-f2bc-1927013007e4"
      },
      "outputs": [
        {
          "data": {
            "text/plain": [
              "(764, 1)"
            ]
          },
          "execution_count": 2403,
          "metadata": {},
          "output_type": "execute_result"
        }
      ],
      "source": [
        "train_Y_reshape.shape"
      ]
    },
    {
      "cell_type": "code",
      "execution_count": null,
      "metadata": {
        "id": "KHGYWwq7ppfj"
      },
      "outputs": [],
      "source": [
        "realtrainprice = train_Y_reshape"
      ]
    },
    {
      "cell_type": "code",
      "execution_count": null,
      "metadata": {
        "id": "QM4BvOSdpqpj"
      },
      "outputs": [],
      "source": [
        "realtestprice = test_Y_reshape"
      ]
    },
    {
      "cell_type": "code",
      "execution_count": null,
      "metadata": {
        "colab": {
          "base_uri": "https://localhost:8080/"
        },
        "id": "wTo6HwWAprzV",
        "outputId": "ff9fdb54-d089-40fa-c811-6efcf9c52489"
      },
      "outputs": [
        {
          "data": {
            "text/plain": [
              "(956, 1)"
            ]
          },
          "execution_count": 2406,
          "metadata": {},
          "output_type": "execute_result"
        }
      ],
      "source": [
        "realprice = np.concatenate((realtrainprice,realtestprice))\n",
        "realprice.shape"
      ]
    },
    {
      "cell_type": "code",
      "execution_count": null,
      "metadata": {
        "id": "Qj_GATSSptWj"
      },
      "outputs": [],
      "source": [
        "#Inverse kembalik semua scaling keharga sebenarnya\n",
        "for i in range(0,len(valpredreal),1):\n",
        "  realprice[i - len(valpredreal)] = realprice[i - len(valpredreal)] * refpoint + refpoint\n",
        "  valpredreal[i - len(valpredreal)] = valpredreal[i - len(valpredreal)] * refpoint + refpoint"
      ]
    },
    {
      "cell_type": "code",
      "execution_count": null,
      "metadata": {
        "id": "zFHtjVVCqJr2"
      },
      "outputs": [],
      "source": [
        "##predtrain range\n",
        "trainrange = np.arange(0,len(valpredTrain),1)\n",
        "testrange = np.arange(len(valpredTrain),len(valpredTrain)+len(valpredtest),1)"
      ]
    },
    {
      "cell_type": "code",
      "execution_count": null,
      "metadata": {
        "colab": {
          "base_uri": "https://localhost:8080/",
          "height": 299
        },
        "id": "TTeT5QzOqMnj",
        "outputId": "eace14b9-f1bf-4045-8103-d4f233497443"
      },
      "outputs": [
        {
          "data": {
            "image/png": "[encoded data removed]",
            "text/plain": [
              "<Figure size 432x288 with 1 Axes>"
            ]
          },
          "metadata": {},
          "output_type": "display_data"
        }
      ],
      "source": [
        "##ini plot yang akhir\n",
        "plt.plot(\n",
        "    trainrange,\n",
        "    valpredreal[0:len(valpredTrain)],\n",
        "    color = 'magenta',\n",
        "    label = 'Train data predicted'\n",
        ")\n",
        "\n",
        "plt.plot(\n",
        "    testrange,\n",
        "    valpredreal[len(valpredTrain):len(valpredTrain)+len(valpredtest)],\n",
        "    color = 'green',\n",
        "    label = 'Test data predicted',\n",
        ")\n",
        "\n",
        "plt.plot(\n",
        "    realprice,\n",
        "    color = 'black',\n",
        "    label = 'Real Stock Price',\n",
        ")\n",
        "\n",
        "plt.title('Stock Price Prediction')\n",
        "plt.ylabel('Price')\n",
        "plt.xlabel('Number of days')\n",
        "plt.legend()\n",
        "plt.show()"
      ]
    }
  ],
  "metadata": {
    "colab": {
      "provenance": []
    },
    "kernelspec": {
      "display_name": "Python 3",
      "name": "python3"
    },
    "language_info": {
      "name": "python"
    }
  },
  "nbformat": 4,
  "nbformat_minor": 0
}